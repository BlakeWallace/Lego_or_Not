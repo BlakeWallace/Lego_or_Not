{
 "cells": [
  {
   "cell_type": "markdown",
   "metadata": {},
   "source": [
    "<font size = 4.5>The data science process:</font>\n",
    "\n",
    "<font color = black size = 4.5>    \n",
    "    - Define the problem\n",
    "    - Gather data\n",
    "    - Explore the data\n",
    "    - Model the data\n",
    "    - Evaluate the model\n",
    "    - Answer the problem\n",
    "</font>\n",
    "\n",
    "<font color = blue size = 4.5>Defining the problem</font>\n",
    "\n",
    "<font color = black size = 4.5>Train a classification model to predict lego sub-reddits, while minimizing the model’s variance.  Here we test and tune on two different models, Multinomial Naive Bayes, and Random Forest Classification.  Note that Niave Bayes outperforms the Random Forest, in this case.</font>\n",
    "\n",
    "<font color = blue size = 4.5>Gather data</font>\n",
    "\n",
    "<font color = black size = 4.5>The positive data came from three sub-reddits, r/lego, r/legos, r/legostarwars.  Within these sub-reddits, the main body is almost always populated with pictures.  Thus, the significant text associated with these posts is located in the titles feature.  So, we choose to focus on this feature to learn the unique language surrounding these sub-reddits.  As a benefit, there are very few posts with hashtags or emojis.</font>\n",
    "\n",
    "<font color = black size = 4.5>The negative class came from three sub-reddits, r/popular, r/Pictures, r/nostalgc.  Note that the 'title' category was also used to train to keep things consistent across the positive and negative categories.</font>\n",
    "    \n",
    "<font color = black size = 4.5>In this section we pull data from three sub-reddits concerned with lego.  These sub-reddits are lego, legos, and legostarwars.  After obtaining this data we determine the number of data points we have for the positive class and pull random reddit posts from two sub-reddits, popular and Pictures, to use in the training data as the negative category.\n",
    "</font>\n",
    "\n",
    "<font size = 3>\n",
    "    Note: We initially got our direction for handling the PRAW wrapper from the site http://www.storybench.org/how-to-scrape-reddit-with-python/, written by Felippe Rodrigues on March 12, 2018.  We use this wrapper to pull data from Reddit.  Some of the steps taken at this point were as follows:\n",
    "</font>\n",
    "\n",
    "<font color = black size = 4.5>\n",
    "    - Create a Reddit account\n",
    "    - \"The very first thing you’ll need to do is “Create an App” within Reddit to get the OAuth2 keys to access the API. It is easier than you think.\" - Rodrigues\n",
    "    - instantiate the reddit instance\n",
    "    - call the sub-reddits in the lego categories\n",
    "    - fix the date column\n",
    "</font>\n",
    "\n",
    "<font color = blue size = 4.5>Exploring the data:</font>\n",
    "    \n",
    "    \n",
    "<font color = black size = 4.5>First, we explored the data when asking ourselves if we had enough data, then in determining the amount of training data needed from the negative class, and finally when performing EDA.</font>\n",
    "    \n",
    "<font color = black size = 4.5>First, because we are using the 'title' feature, we determined it was necessary to have lots of data.  So, we pulled 5000 posts from each subreddit.  The PRAW wrapper supported 5 different categories, 'top', 'hot', 'new', 'controversial', and 'gilded'.  From each we pulled from reddit a total of 1000 posts.  However, there were some duplicates.  So, we sorted through all of the posts, using the 'id' feature, and pulled out all of the duplicates.  After this process was completed, we were left with about 6500 unique documents.  From this, we went in and pulled from the two sub-reddits used in the negative class for training.  We were able to get almost the same number of posts in both classes.  So, we are happy with our balance.  In summery, we have 13081 total data points to use in constructing our model.</font>\n",
    "\n",
    "<font color = blue size = 4.5>Model the data:</font>\n",
    "    \n",
    "<font color = black size = 4.5>A CountVectorizer with 'english' stop words is used to tokenize the data.  During the lengthy tuning of the models, we also tried not using 'english' stopwords.  But, within the gridsearch the 'english' stopwords always prevailed.</font>\n",
    "\n",
    "<font color = blue size = 4.5>Evaluate the model:</font>\n",
    "\n",
    "<font color = black size = 4.5>\n",
    "    \n",
    "    A voting classifier was used over 2 different models, \n",
    "        - Multinomial Naive Bayes, and\n",
    "        - Random Forest.  \n",
    "</font>\n",
    "\n",
    "<font color = black size = 4.5>We note at this time that the accuracy was used to determine which model performed the best.  This is ideal in this case because the goal is to reduce all possible false predictions.\n",
    "        \n",
    "        The bagged Multinumial Naive Bayes with parameters alpha=1.0, class_prior=None, and fit_prior=True yielded the model with the least variance.\n",
    "</font>\n",
    "\n",
    "\n",
    "<font color = blue size = 4.5>Answer the question:</font>\n",
    "    \n",
    "<font color = black size = 4.5>IN conclusion, the Navie Bayes model was able to reduce the variance significantly. At this time it is my recommendation that this model be adopted when classifying reddit posts related with lego sub-reddits.  It is very likely that in a more general context of classifying reddit posts the Niave Bayes model will be the best candidate.</font>\n",
    "    \n",
    "    \n",
    "\n",
    "- personal use script (OnvJDrnt8doq4w)\n",
    "- secret key <font color = Black size = 0.1>(0xQvVRkHk5RnLNATJMFXK5EPTFk)</font>"
   ]
  },
  {
   "cell_type": "code",
   "execution_count": 4,
   "metadata": {},
   "outputs": [],
   "source": [
    "# !pip install praw #this code installed praw from anaconda"
   ]
  },
  {
   "cell_type": "markdown",
   "metadata": {},
   "source": [
    "\"Each subreddit has five different ways of organizing the topics created by redditors: \n",
    "\n",
    "`.hot`, `.new`, ```.controversial```, ```.top```, and `.gilded`. \n",
    "\n",
    "You can also use .search(\"SEARCH_KEYWORDS\") to get only results matching an engine search.\" - Rodrigues"
   ]
  },
  {
   "cell_type": "code",
   "execution_count": null,
   "metadata": {},
   "outputs": [],
   "source": []
  },
  {
   "cell_type": "markdown",
   "metadata": {},
   "source": [
    "<font color = blue size = 5.5>\n",
    "    Gathering data\n",
    "</font>"
   ]
  },
  {
   "cell_type": "markdown",
   "metadata": {},
   "source": [
    "<font color = blue>\n",
    "    In what follows are copies of the code blocks that were ran to generate the data.  \n",
    "</font>"
   ]
  },
  {
   "cell_type": "code",
   "execution_count": 177,
   "metadata": {},
   "outputs": [],
   "source": [
    "import praw   # Python Reddit API Wrapper\n",
    "import pandas as pd\n",
    "import numpy as np\n",
    "\n",
    "import datetime as dt\n",
    "import time\n",
    "\n",
    "from sklearn.model_selection import train_test_split, GridSearchCV, cross_val_score\n",
    "from sklearn.linear_model import LogisticRegression\n",
    "from sklearn.pipeline import Pipeline\n",
    "from sklearn.feature_extraction.text import CountVectorizer, TfidfVectorizer\n",
    "from sklearn.tree import DecisionTreeClassifier\n",
    "from sklearn.ensemble import AdaBoostClassifier, RandomForestClassifier, ExtraTreesClassifier, BaggingClassifier\n",
    "from sklearn.naive_bayes import MultinomialNB\n",
    "from sklearn.metrics import confusion_matrix, classification_report, accuracy_score\n",
    "\n",
    "#for visualizations\n",
    "import nltk\n",
    "from nltk.corpus import stopwords\n",
    "from nltk.classify import SklearnClassifier\n",
    "\n",
    "from wordcloud import WordCloud,STOPWORDS\n",
    "import matplotlib.pyplot as plt\n",
    "%matplotlib inline\n",
    "\n"
   ]
  },
  {
   "cell_type": "code",
   "execution_count": 6,
   "metadata": {},
   "outputs": [
    {
     "name": "stdout",
     "output_type": "stream",
     "text": [
      "category for Lego Star Wars: top_subreddit\n",
      "category for Lego Star Wars: hot_subreddit\n",
      "category for Lego Star Wars: new_subreddit\n",
      "category for Lego Star Wars: controversial_subreddit\n",
      "category for Lego Star Wars: gilded_subreddit\n",
      "\n",
      "The totle number of posts pulled from the surver: 4934\n",
      "\n",
      "The number of unique posts in the new dictionary: 2663\n",
      "The number of posts in the duplicates dictionary: 2271\n",
      "\n",
      "Our new dataframe is defined as: positive_data\n",
      "time: 130.316 seconds\n",
      "time: 2 minutes, 10.316 seconds\n"
     ]
    }
   ],
   "source": [
    "# this is pulling data from the subreddit category for Lego Star Wars\n",
    "\n",
    "start_time = time.time()\n",
    "\n",
    "\n",
    "reddit = praw.Reddit(client_id='OnvJDrnt8doq4w', \\\n",
    "                     client_secret='0xQvVRkHk5RnLNATJMFXK5EPTFk', \\\n",
    "                     user_agent='Blake Wallace', \\\n",
    "                     username='Bw1097246', \\\n",
    "                     password='Bw00436948$')\n",
    "\n",
    "# instantiating a subreddit\n",
    "subreddit = reddit.subreddit('legostarwars')\n",
    "\n",
    "# pulling from the subreddit in the five diffeent categories.  Note the 4 second intervals between each pull from reddit.\n",
    "top_subreddit = subreddit.top(limit=1000);\n",
    "\n",
    "\n",
    "time.sleep(4)\n",
    "hot_subreddit = subreddit.hot(limit=1000);\n",
    "\n",
    "\n",
    "time.sleep(4)\n",
    "new_subreddit = subreddit.new(limit=1000);\n",
    "\n",
    "\n",
    "time.sleep(4)\n",
    "controversial_subreddit = subreddit.controversial(limit=1000);\n",
    "\n",
    "\n",
    "time.sleep(4)\n",
    "gilded_subreddit = subreddit.controversial(limit=1000);\n",
    "\n",
    "\n",
    "\n",
    "\n",
    "lst = ['top_subreddit', 'hot_subreddit', 'new_subreddit', 'controversial_subreddit', 'gilded_subreddit']\n",
    "# lst = ['top_subreddit', 'hot_subreddit']\n",
    "\n",
    "data_dict = {\n",
    "    'title'    : [],\n",
    "    'score'    : [],\n",
    "    'id'       : [],\n",
    "    'url'      : [],\n",
    "    'comms_num': [],\n",
    "    'created'  : [],\n",
    "    'body'     : [],\n",
    "    'category' : [],\n",
    "    'class'    : []\n",
    "}\n",
    "\n",
    "duplicates_dict = {\n",
    "    'title'    : [],\n",
    "    'score'    : [],\n",
    "    'id'       : [],\n",
    "    'url'      : [],\n",
    "    'comms_num': [],\n",
    "    'created'  : [],\n",
    "    'body'     : [],\n",
    "    'category' : [],\n",
    "    'class'    : []\n",
    "}\n",
    "\n",
    "\n",
    "for item in lst:\n",
    "    print(f'category for Lego Star Wars: {item}')\n",
    "    for submission in eval(item):\n",
    "#         print(submission, submission.id)\n",
    "        if submission.id in set(data_dict['id']):\n",
    "            duplicates_dict['title'].append(submission.title)\n",
    "            duplicates_dict['score'].append(submission.score)\n",
    "            duplicates_dict['id'].append(submission.id)\n",
    "            duplicates_dict['url'].append(submission.url)\n",
    "            duplicates_dict['comms_num'].append(submission.num_comments)\n",
    "            duplicates_dict['created'].append(submission.created)\n",
    "            duplicates_dict['body'].append(submission.selftext)\n",
    "            duplicates_dict['category'].append(item)\n",
    "            duplicates_dict['class'] = 1\n",
    "        \n",
    "        else:\n",
    "#             print(submission)\n",
    "            data_dict['title'].append(submission.title)\n",
    "            data_dict['score'].append(submission.score)\n",
    "            data_dict['id'].append(submission.id)\n",
    "            data_dict['url'].append(submission.url)\n",
    "            data_dict['comms_num'].append(submission.num_comments)\n",
    "            data_dict['created'].append(submission.created)\n",
    "            data_dict['body'].append(submission.selftext)\n",
    "            data_dict['category'].append(item)\n",
    "            data_dict['class'] = 1\n",
    "#             print(item)\n",
    "# print(len(data_dict['id']))\n",
    "            \n",
    "\n",
    "\n",
    "# constructing a data frame from the data\n",
    "positive_data = pd.DataFrame(data_dict)\n",
    "\n",
    "\n",
    "# This function is taken from Rodrigues' website.  It converts the initial time stamp, which is a UNIX timestamp,\n",
    "# into something we can understand.\n",
    "def get_date(created):\n",
    "    return dt.datetime.fromtimestamp(created)\n",
    "\n",
    "\n",
    "applying the timestamp function to create a new row.  This is how Rodrigues did it.  We follow his lead.\n",
    "_timestamp = positive_data['created'].apply(get_date)\n",
    "\n",
    "\n",
    "# Now, we create a new row in the dataframe to hold the new time stamp information\n",
    "positive_data = positive_data.assign(timestamp = _timestamp)\n",
    "\n",
    "\n",
    "print()\n",
    "print(f'The totle number of posts pulled from the surver: {len(data_dict[\"id\"]) + len(duplicates_dict[\"id\"])}')\n",
    "print()\n",
    "print(f'The number of unique posts in the new dictionary: {len(data_dict[\"id\"])}')\n",
    "print(f'The number of posts in the duplicates dictionary: {len(duplicates_dict[\"id\"])}')\n",
    "print()\n",
    "print(f'Our new dataframe is defined as: positive_data')\n",
    "\n",
    "\n",
    "\n",
    "end_time = round(time.time() - start_time, 3)\n",
    "print(f'time: {end_time} seconds')\n",
    "end_time_minutes = int(end_time/ 60)\n",
    "end_time_seconds = round(end_time % 60, 3)\n",
    "\n",
    "print(f'time: {end_time_minutes} minutes, {end_time_seconds} seconds')\n",
    "      \n",
    "      "
   ]
  },
  {
   "cell_type": "markdown",
   "metadata": {},
   "source": [
    "<font color = blue size = 4.5>\n",
    "    This is the initial data pulled from the Star Wars Lego sub-reddit for the positive category.  We will pull more data from the larger legos category below.  Now, let's get more data for the positive class.\n",
    "</font>"
   ]
  },
  {
   "cell_type": "markdown",
   "metadata": {},
   "source": [
    "<font color = blue>\n",
    "    Exploring the data.\n",
    "</font>"
   ]
  },
  {
   "cell_type": "code",
   "execution_count": 7,
   "metadata": {},
   "outputs": [
    {
     "data": {
      "text/plain": [
       "dict"
      ]
     },
     "execution_count": 7,
     "metadata": {},
     "output_type": "execute_result"
    }
   ],
   "source": [
    "# checking the data type of the dictionary\n",
    "type(data_dict)"
   ]
  },
  {
   "cell_type": "code",
   "execution_count": 8,
   "metadata": {},
   "outputs": [
    {
     "data": {
      "text/plain": [
       "2663"
      ]
     },
     "execution_count": 8,
     "metadata": {},
     "output_type": "execute_result"
    }
   ],
   "source": [
    "# length of the dictionary, this is more of a duble check than anything else.  We want to make sure our code is\n",
    "# working properly before taking it elsewhere.\n",
    "len(data_dict['id'])"
   ]
  },
  {
   "cell_type": "code",
   "execution_count": 9,
   "metadata": {},
   "outputs": [
    {
     "data": {
      "text/plain": [
       "dict_keys(['title', 'score', 'id', 'url', 'comms_num', 'created', 'body', 'category', 'class'])"
      ]
     },
     "execution_count": 9,
     "metadata": {},
     "output_type": "execute_result"
    }
   ],
   "source": [
    "# keys in the data dictionary\n",
    "data_dict.keys()"
   ]
  },
  {
   "cell_type": "code",
   "execution_count": 10,
   "metadata": {},
   "outputs": [
    {
     "data": {
      "text/html": [
       "<div>\n",
       "<style scoped>\n",
       "    .dataframe tbody tr th:only-of-type {\n",
       "        vertical-align: middle;\n",
       "    }\n",
       "\n",
       "    .dataframe tbody tr th {\n",
       "        vertical-align: top;\n",
       "    }\n",
       "\n",
       "    .dataframe thead th {\n",
       "        text-align: right;\n",
       "    }\n",
       "</style>\n",
       "<table border=\"1\" class=\"dataframe\">\n",
       "  <thead>\n",
       "    <tr style=\"text-align: right;\">\n",
       "      <th></th>\n",
       "      <th>title</th>\n",
       "      <th>score</th>\n",
       "      <th>id</th>\n",
       "      <th>url</th>\n",
       "      <th>comms_num</th>\n",
       "      <th>created</th>\n",
       "      <th>body</th>\n",
       "      <th>category</th>\n",
       "      <th>class</th>\n",
       "      <th>timestamp</th>\n",
       "    </tr>\n",
       "  </thead>\n",
       "  <tbody>\n",
       "    <tr>\n",
       "      <th>0</th>\n",
       "      <td>6 Months, 150,000 Pieces, 200 LEDs Later... My...</td>\n",
       "      <td>1269</td>\n",
       "      <td>b31lgu</td>\n",
       "      <td>https://i.redd.it/18yfvmxul4n21.jpg</td>\n",
       "      <td>46</td>\n",
       "      <td>1.553023e+09</td>\n",
       "      <td></td>\n",
       "      <td>top_subreddit</td>\n",
       "      <td>1</td>\n",
       "      <td>2019-03-19 14:20:28</td>\n",
       "    </tr>\n",
       "    <tr>\n",
       "      <th>1</th>\n",
       "      <td>Sorry if it’s been done before but i thought i...</td>\n",
       "      <td>796</td>\n",
       "      <td>aqb5c7</td>\n",
       "      <td>https://i.redd.it/6fqwr1q4ceg21.jpg</td>\n",
       "      <td>40</td>\n",
       "      <td>1.550090e+09</td>\n",
       "      <td></td>\n",
       "      <td>top_subreddit</td>\n",
       "      <td>1</td>\n",
       "      <td>2019-02-13 14:34:38</td>\n",
       "    </tr>\n",
       "    <tr>\n",
       "      <th>2</th>\n",
       "      <td>Star Wars Battlefront 2 Vardos Tower WIP. Me f...</td>\n",
       "      <td>768</td>\n",
       "      <td>axcpto</td>\n",
       "      <td>https://i.redd.it/ryvf1n4786k21.jpg</td>\n",
       "      <td>44</td>\n",
       "      <td>1.551735e+09</td>\n",
       "      <td></td>\n",
       "      <td>top_subreddit</td>\n",
       "      <td>1</td>\n",
       "      <td>2019-03-04 15:34:59</td>\n",
       "    </tr>\n",
       "    <tr>\n",
       "      <th>3</th>\n",
       "      <td>Current version of all my Box MOCs!</td>\n",
       "      <td>770</td>\n",
       "      <td>asz3n8</td>\n",
       "      <td>https://i.redd.it/lyhhr4x2uuh21.jpg</td>\n",
       "      <td>47</td>\n",
       "      <td>1.550726e+09</td>\n",
       "      <td></td>\n",
       "      <td>top_subreddit</td>\n",
       "      <td>1</td>\n",
       "      <td>2019-02-20 23:07:54</td>\n",
       "    </tr>\n",
       "    <tr>\n",
       "      <th>4</th>\n",
       "      <td>I hope you guys can appreciate my venator MOC</td>\n",
       "      <td>718</td>\n",
       "      <td>az818i</td>\n",
       "      <td>https://i.redd.it/46z1vsuiq5l21.jpg</td>\n",
       "      <td>27</td>\n",
       "      <td>1.552165e+09</td>\n",
       "      <td></td>\n",
       "      <td>top_subreddit</td>\n",
       "      <td>1</td>\n",
       "      <td>2019-03-09 14:59:58</td>\n",
       "    </tr>\n",
       "  </tbody>\n",
       "</table>\n",
       "</div>"
      ],
      "text/plain": [
       "                                               title  score      id  \\\n",
       "0  6 Months, 150,000 Pieces, 200 LEDs Later... My...   1269  b31lgu   \n",
       "1  Sorry if it’s been done before but i thought i...    796  aqb5c7   \n",
       "2  Star Wars Battlefront 2 Vardos Tower WIP. Me f...    768  axcpto   \n",
       "3                Current version of all my Box MOCs!    770  asz3n8   \n",
       "4      I hope you guys can appreciate my venator MOC    718  az818i   \n",
       "\n",
       "                                   url  comms_num       created body  \\\n",
       "0  https://i.redd.it/18yfvmxul4n21.jpg         46  1.553023e+09        \n",
       "1  https://i.redd.it/6fqwr1q4ceg21.jpg         40  1.550090e+09        \n",
       "2  https://i.redd.it/ryvf1n4786k21.jpg         44  1.551735e+09        \n",
       "3  https://i.redd.it/lyhhr4x2uuh21.jpg         47  1.550726e+09        \n",
       "4  https://i.redd.it/46z1vsuiq5l21.jpg         27  1.552165e+09        \n",
       "\n",
       "        category  class           timestamp  \n",
       "0  top_subreddit      1 2019-03-19 14:20:28  \n",
       "1  top_subreddit      1 2019-02-13 14:34:38  \n",
       "2  top_subreddit      1 2019-03-04 15:34:59  \n",
       "3  top_subreddit      1 2019-02-20 23:07:54  \n",
       "4  top_subreddit      1 2019-03-09 14:59:58  "
      ]
     },
     "execution_count": 10,
     "metadata": {},
     "output_type": "execute_result"
    }
   ],
   "source": [
    "# inspecting the head of the dataframe\n",
    "positive_data.head()"
   ]
  },
  {
   "cell_type": "code",
   "execution_count": 11,
   "metadata": {
    "scrolled": true
   },
   "outputs": [
    {
     "data": {
      "text/plain": [
       "0"
      ]
     },
     "execution_count": 11,
     "metadata": {},
     "output_type": "execute_result"
    }
   ],
   "source": [
    "# this confirms that there are no posts that have a blank title\n",
    "(positive_data['title'] == '').sum()"
   ]
  },
  {
   "cell_type": "code",
   "execution_count": 12,
   "metadata": {},
   "outputs": [
    {
     "data": {
      "text/plain": [
       "441"
      ]
     },
     "execution_count": 12,
     "metadata": {},
     "output_type": "execute_result"
    }
   ],
   "source": [
    "# this is the number of rows that don't have a photo for the body of the post\n",
    "(positive_data['body'] != '').sum()"
   ]
  },
  {
   "cell_type": "code",
   "execution_count": 13,
   "metadata": {},
   "outputs": [],
   "source": [
    "# save the data\n",
    "\n",
    "positive_data.to_csv('data_pos_class.csv', index=False) "
   ]
  },
  {
   "cell_type": "code",
   "execution_count": 14,
   "metadata": {},
   "outputs": [
    {
     "data": {
      "text/plain": [
       "title                object\n",
       "score                 int64\n",
       "id                   object\n",
       "url                  object\n",
       "comms_num             int64\n",
       "created             float64\n",
       "body                 object\n",
       "category             object\n",
       "class                 int64\n",
       "timestamp    datetime64[ns]\n",
       "dtype: object"
      ]
     },
     "execution_count": 14,
     "metadata": {},
     "output_type": "execute_result"
    }
   ],
   "source": [
    "# data types\n",
    "positive_data.dtypes"
   ]
  },
  {
   "cell_type": "code",
   "execution_count": 15,
   "metadata": {},
   "outputs": [
    {
     "data": {
      "text/plain": [
       "0      274\n",
       "2      199\n",
       "3      185\n",
       "4      180\n",
       "1      176\n",
       "5      166\n",
       "6      152\n",
       "7      132\n",
       "8      110\n",
       "9      103\n",
       "12      99\n",
       "10      75\n",
       "13      74\n",
       "11      72\n",
       "14      66\n",
       "15      57\n",
       "16      46\n",
       "17      45\n",
       "19      40\n",
       "21      36\n",
       "18      36\n",
       "20      33\n",
       "26      27\n",
       "24      26\n",
       "22      25\n",
       "27      21\n",
       "29      18\n",
       "25      16\n",
       "23      14\n",
       "31      13\n",
       "      ... \n",
       "38       6\n",
       "35       5\n",
       "47       4\n",
       "33       4\n",
       "46       4\n",
       "41       3\n",
       "55       3\n",
       "39       3\n",
       "85       2\n",
       "48       2\n",
       "52       2\n",
       "60       2\n",
       "72       2\n",
       "63       2\n",
       "45       2\n",
       "75       1\n",
       "65       1\n",
       "98       1\n",
       "54       1\n",
       "76       1\n",
       "80       1\n",
       "92       1\n",
       "106      1\n",
       "109      1\n",
       "67       1\n",
       "49       1\n",
       "57       1\n",
       "59       1\n",
       "61       1\n",
       "159      1\n",
       "Name: comms_num, Length: 70, dtype: int64"
      ]
     },
     "execution_count": 15,
     "metadata": {},
     "output_type": "execute_result"
    }
   ],
   "source": [
    "positive_data.comms_num.value_counts()"
   ]
  },
  {
   "cell_type": "code",
   "execution_count": 16,
   "metadata": {},
   "outputs": [
    {
     "data": {
      "text/plain": [
       "top_subreddit              999\n",
       "controversial_subreddit    902\n",
       "hot_subreddit              728\n",
       "new_subreddit               34\n",
       "Name: category, dtype: int64"
      ]
     },
     "execution_count": 16,
     "metadata": {},
     "output_type": "execute_result"
    }
   ],
   "source": [
    "# there is still something wierd happening here.  Every single one of my reddit posts in my data is coming from the\n",
    "positive_data.category.value_counts()"
   ]
  },
  {
   "cell_type": "code",
   "execution_count": 17,
   "metadata": {},
   "outputs": [
    {
     "data": {
      "text/plain": [
       "2663"
      ]
     },
     "execution_count": 17,
     "metadata": {},
     "output_type": "execute_result"
    }
   ],
   "source": [
    "positive_data.id.value_counts().sum()"
   ]
  },
  {
   "cell_type": "markdown",
   "metadata": {},
   "source": [
    "<font color = blue size = 4.5>\n",
    "    Now, we pull more data for the positive class.\n",
    "</font>"
   ]
  },
  {
   "cell_type": "code",
   "execution_count": 18,
   "metadata": {},
   "outputs": [
    {
     "name": "stdout",
     "output_type": "stream",
     "text": [
      "category for lego: top_subreddit\n",
      "category for lego: hot_subreddit\n",
      "category for lego: new_subreddit\n",
      "category for lego: controversial_subreddit\n",
      "category for lego: gilded_subreddit\n",
      "\n",
      "The totle number of posts pulled from the surver: 9919\n",
      "\n",
      "The number of unique posts in the new dictionary: 5663\n",
      "The number of posts in the duplicates dictionary: 4256\n",
      "\n",
      "Our new dataframe is defined as: positive_data\n",
      "time: 162.006 seconds\n",
      "time: 2 minutes, 42.006 seconds\n"
     ]
    }
   ],
   "source": [
    "# this is pulling data from the sub-reddit category for Lego (without the Star Wars part)\n",
    "# Note that we are adjoining these data onto the back end of the original dataframe\n",
    "\n",
    "start_time = time.time()\n",
    "\n",
    "\n",
    "reddit = praw.Reddit(client_id='OnvJDrnt8doq4w', \\\n",
    "                     client_secret='0xQvVRkHk5RnLNATJMFXK5EPTFk', \\\n",
    "                     user_agent='Blake Wallace', \\\n",
    "                     username='Bw1097246', \\\n",
    "                     password='Bw00436948$')\n",
    "\n",
    "# instantiating a subreddit\n",
    "subreddit = reddit.subreddit('lego')\n",
    "\n",
    "# pulling from the subreddit in the five diffeent categories.  Note the 4 second intervals between each pull from reddit.\n",
    "top_subreddit = subreddit.top(limit=1000);\n",
    "\n",
    "\n",
    "time.sleep(4)\n",
    "hot_subreddit = subreddit.hot(limit=1000);\n",
    "\n",
    "\n",
    "time.sleep(4)\n",
    "new_subreddit = subreddit.new(limit=1000);\n",
    "\n",
    "\n",
    "time.sleep(4)\n",
    "controversial_subreddit = subreddit.controversial(limit=1000);\n",
    "\n",
    "\n",
    "time.sleep(4)\n",
    "gilded_subreddit = subreddit.controversial(limit=1000);\n",
    "\n",
    "\n",
    "\n",
    "\n",
    "lst = ['top_subreddit', 'hot_subreddit', 'new_subreddit', 'controversial_subreddit', 'gilded_subreddit']\n",
    "# lst = ['top_subreddit', 'hot_subreddit']\n",
    "\n",
    "# data_dict = {\n",
    "#     'title'    : [],\n",
    "#     'score'    : [],\n",
    "#     'id'       : [],\n",
    "#     'url'      : [],\n",
    "#     'comms_num': [],\n",
    "#     'created'  : [],\n",
    "#     'body'     : [],\n",
    "#     'category' : [],\n",
    "#     'class'    : []\n",
    "# }\n",
    "\n",
    "# duplicates_dict = {\n",
    "#     'title'    : [],\n",
    "#     'score'    : [],\n",
    "#     'id'       : [],\n",
    "#     'url'      : [],\n",
    "#     'comms_num': [],\n",
    "#     'created'  : [],\n",
    "#     'body'     : [],\n",
    "#     'category' : [],\n",
    "#     'class'    : []\n",
    "# }\n",
    "\n",
    "\n",
    "for item in lst:\n",
    "    print(f'category for lego: {item}')\n",
    "    for submission in eval(item):\n",
    "#         print(submission, submission.id)\n",
    "        if submission.id in set(data_dict['id']):\n",
    "            duplicates_dict['title'].append(submission.title)\n",
    "            duplicates_dict['score'].append(submission.score)\n",
    "            duplicates_dict['id'].append(submission.id)\n",
    "            duplicates_dict['url'].append(submission.url)\n",
    "            duplicates_dict['comms_num'].append(submission.num_comments)\n",
    "            duplicates_dict['created'].append(submission.created)\n",
    "            duplicates_dict['body'].append(submission.selftext)\n",
    "            duplicates_dict['category'].append(item)\n",
    "            duplicates_dict['class'] = 1\n",
    "        \n",
    "        else:\n",
    "#             print(submission)\n",
    "            data_dict['title'].append(submission.title)\n",
    "            data_dict['score'].append(submission.score)\n",
    "            data_dict['id'].append(submission.id)\n",
    "            data_dict['url'].append(submission.url)\n",
    "            data_dict['comms_num'].append(submission.num_comments)\n",
    "            data_dict['created'].append(submission.created)\n",
    "            data_dict['body'].append(submission.selftext)\n",
    "            data_dict['category'].append(item)\n",
    "            data_dict['class'] = 1\n",
    "#             print(item)\n",
    "# print(len(data_dict['id']))\n",
    "            \n",
    "\n",
    "\n",
    "# constructing a data frame from the data\n",
    "positive_data = pd.DataFrame(data_dict)\n",
    "\n",
    "\n",
    "# This function is taken from Rodrigues' website.  It converts the initial time stamp, which is a UNIX timestamp,\n",
    "# into something we can understand.\n",
    "def get_date(created):\n",
    "    return dt.datetime.fromtimestamp(created)\n",
    "\n",
    "\n",
    "# applying the timestamp function to create a new row.  This is how Rodrigues did it.  We follow his lead.\n",
    "_timestamp = positive_data['created'].apply(get_date)\n",
    "\n",
    "\n",
    "# Now, we create a new row in the dataframe to hold the new time stamp information\n",
    "positive_data = positive_data.assign(timestamp = _timestamp)\n",
    "\n",
    "\n",
    "print()\n",
    "print(f'The totle number of posts pulled from the surver: {len(data_dict[\"id\"]) + len(duplicates_dict[\"id\"])}')\n",
    "print()\n",
    "print(f'The number of unique posts in the new dictionary: {len(data_dict[\"id\"])}')\n",
    "print(f'The number of posts in the duplicates dictionary: {len(duplicates_dict[\"id\"])}')\n",
    "print()\n",
    "print(f'Our new dataframe is defined as: positive_data')\n",
    "\n",
    "\n",
    "\n",
    "end_time = round(time.time() - start_time, 3)\n",
    "print(f'time: {end_time} seconds')\n",
    "end_time_minutes = int(end_time/ 60)\n",
    "end_time_seconds = round(end_time % 60, 3)\n",
    "\n",
    "print(f'time: {end_time_minutes} minutes, {end_time_seconds} seconds')\n",
    "      \n",
    "      "
   ]
  },
  {
   "cell_type": "code",
   "execution_count": 19,
   "metadata": {},
   "outputs": [
    {
     "name": "stdout",
     "output_type": "stream",
     "text": [
      "category legos: top_subreddit\n",
      "category legos: hot_subreddit\n",
      "category legos: new_subreddit\n",
      "category legos: controversial_subreddit\n",
      "category legos: gilded_subreddit\n",
      "\n",
      "The totle number of posts pulled from the surver: 14430\n",
      "\n",
      "The number of unique posts in the new dictionary: 6566\n",
      "The number of posts in the duplicates dictionary: 7864\n",
      "\n",
      "Our new dataframe is defined as: positive_data\n",
      "time: 85.184 seconds\n",
      "time: 1 minutes, 25.184 seconds\n"
     ]
    }
   ],
   "source": [
    "# this is pulling data from the sub-reddit category for Legos (with an s)\n",
    "\n",
    "start_time = time.time()\n",
    "\n",
    "\n",
    "reddit = praw.Reddit(client_id='OnvJDrnt8doq4w', \\\n",
    "                     client_secret='0xQvVRkHk5RnLNATJMFXK5EPTFk', \\\n",
    "                     user_agent='Blake Wallace', \\\n",
    "                     username='Bw1097246', \\\n",
    "                     password='Bw00436948$')\n",
    "\n",
    "# instantiating a subreddit\n",
    "subreddit = reddit.subreddit('legos')\n",
    "\n",
    "# pulling from the subreddit in the five diffeent categories.  Note the 4 second intervals between each pull from reddit.\n",
    "top_subreddit = subreddit.top(limit=1000);\n",
    "\n",
    "\n",
    "time.sleep(4)\n",
    "hot_subreddit = subreddit.hot(limit=1000);\n",
    "\n",
    "\n",
    "time.sleep(4)\n",
    "new_subreddit = subreddit.new(limit=1000);\n",
    "\n",
    "\n",
    "time.sleep(4)\n",
    "controversial_subreddit = subreddit.controversial(limit=1000);\n",
    "\n",
    "\n",
    "time.sleep(4)\n",
    "gilded_subreddit = subreddit.controversial(limit=1000);\n",
    "\n",
    "\n",
    "\n",
    "\n",
    "lst = ['top_subreddit', 'hot_subreddit', 'new_subreddit', 'controversial_subreddit', 'gilded_subreddit']\n",
    "# lst = ['top_subreddit', 'hot_subreddit']\n",
    "\n",
    "# data_dict = {\n",
    "#     'title'    : [],\n",
    "#     'score'    : [],\n",
    "#     'id'       : [],\n",
    "#     'url'      : [],\n",
    "#     'comms_num': [],\n",
    "#     'created'  : [],\n",
    "#     'body'     : [],\n",
    "#     'category' : [],\n",
    "#     'class'    : []\n",
    "# }\n",
    "\n",
    "# duplicates_dict = {\n",
    "#     'title'    : [],\n",
    "#     'score'    : [],\n",
    "#     'id'       : [],\n",
    "#     'url'      : [],\n",
    "#     'comms_num': [],\n",
    "#     'created'  : [],\n",
    "#     'body'     : [],\n",
    "#     'category' : [],\n",
    "#     'class'    : []\n",
    "# }\n",
    "\n",
    "\n",
    "for item in lst:\n",
    "    print(f'category legos: {item}')\n",
    "    for submission in eval(item):\n",
    "#         print(submission, submission.id)\n",
    "        if submission.id in set(data_dict['id']):\n",
    "            duplicates_dict['title'].append(submission.title)\n",
    "            duplicates_dict['score'].append(submission.score)\n",
    "            duplicates_dict['id'].append(submission.id)\n",
    "            duplicates_dict['url'].append(submission.url)\n",
    "            duplicates_dict['comms_num'].append(submission.num_comments)\n",
    "            duplicates_dict['created'].append(submission.created)\n",
    "            duplicates_dict['body'].append(submission.selftext)\n",
    "            duplicates_dict['category'].append(item)\n",
    "            duplicates_dict['class'] = 1\n",
    "        \n",
    "        else:\n",
    "#             print(submission)\n",
    "            data_dict['title'].append(submission.title)\n",
    "            data_dict['score'].append(submission.score)\n",
    "            data_dict['id'].append(submission.id)\n",
    "            data_dict['url'].append(submission.url)\n",
    "            data_dict['comms_num'].append(submission.num_comments)\n",
    "            data_dict['created'].append(submission.created)\n",
    "            data_dict['body'].append(submission.selftext)\n",
    "            data_dict['category'].append(item)\n",
    "            data_dict['class'] = 1\n",
    "#             print(item)\n",
    "# print(len(data_dict['id']))\n",
    "            \n",
    "\n",
    "\n",
    "# constructing a data frame from the data\n",
    "positive_data = pd.DataFrame(data_dict)\n",
    "\n",
    "\n",
    "# This function is taken from Rodrigues' website.  It converts the initial time stamp, which is a UNIX timestamp,\n",
    "# into something we can understand.\n",
    "def get_date(created):\n",
    "    return dt.datetime.fromtimestamp(created)\n",
    "\n",
    "\n",
    "# applying the timestamp function to create a new row.  This is how Rodrigues did it.  We follow his lead.\n",
    "_timestamp = positive_data['created'].apply(get_date)\n",
    "\n",
    "\n",
    "# Now, we create a new row in the dataframe to hold the new time stamp information\n",
    "positive_data = positive_data.assign(timestamp = _timestamp)\n",
    "\n",
    "\n",
    "print()\n",
    "print(f'The totle number of posts pulled from the surver: {len(data_dict[\"id\"]) + len(duplicates_dict[\"id\"])}')\n",
    "print()\n",
    "print(f'The number of unique posts in the new dictionary: {len(data_dict[\"id\"])}')\n",
    "print(f'The number of posts in the duplicates dictionary: {len(duplicates_dict[\"id\"])}')\n",
    "print()\n",
    "print(f'Our new dataframe is defined as: positive_data')\n",
    "\n",
    "\n",
    "\n",
    "end_time = round(time.time() - start_time, 3)\n",
    "print(f'time: {end_time} seconds')\n",
    "end_time_minutes = int(end_time/ 60)\n",
    "end_time_seconds = round(end_time % 60, 3)\n",
    "\n",
    "print(f'time: {end_time_minutes} minutes, {end_time_seconds} seconds')\n",
    "      \n",
    "      "
   ]
  },
  {
   "cell_type": "markdown",
   "metadata": {},
   "source": [
    "<font color = blue size = 5.5>\n",
    "    Explore the data.\n",
    "</font>"
   ]
  },
  {
   "cell_type": "code",
   "execution_count": 20,
   "metadata": {},
   "outputs": [
    {
     "data": {
      "text/plain": [
       "dict"
      ]
     },
     "execution_count": 20,
     "metadata": {},
     "output_type": "execute_result"
    }
   ],
   "source": [
    "# checking the data type of the dictionary (We were havin)\n",
    "type(data_dict)"
   ]
  },
  {
   "cell_type": "code",
   "execution_count": 21,
   "metadata": {},
   "outputs": [
    {
     "data": {
      "text/plain": [
       "6566"
      ]
     },
     "execution_count": 21,
     "metadata": {},
     "output_type": "execute_result"
    }
   ],
   "source": [
    "# length of the dictionary, this is more of a duble check than anything else.  We want to make sure our code is\n",
    "# working properly before taking it elsewhere.\n",
    "len(data_dict['id'])"
   ]
  },
  {
   "cell_type": "code",
   "execution_count": 22,
   "metadata": {},
   "outputs": [
    {
     "data": {
      "text/plain": [
       "dict_keys(['title', 'score', 'id', 'url', 'comms_num', 'created', 'body', 'category', 'class'])"
      ]
     },
     "execution_count": 22,
     "metadata": {},
     "output_type": "execute_result"
    }
   ],
   "source": [
    "# keys in the data dictionary\n",
    "data_dict.keys()"
   ]
  },
  {
   "cell_type": "code",
   "execution_count": 23,
   "metadata": {},
   "outputs": [
    {
     "data": {
      "text/html": [
       "<div>\n",
       "<style scoped>\n",
       "    .dataframe tbody tr th:only-of-type {\n",
       "        vertical-align: middle;\n",
       "    }\n",
       "\n",
       "    .dataframe tbody tr th {\n",
       "        vertical-align: top;\n",
       "    }\n",
       "\n",
       "    .dataframe thead th {\n",
       "        text-align: right;\n",
       "    }\n",
       "</style>\n",
       "<table border=\"1\" class=\"dataframe\">\n",
       "  <thead>\n",
       "    <tr style=\"text-align: right;\">\n",
       "      <th></th>\n",
       "      <th>title</th>\n",
       "      <th>score</th>\n",
       "      <th>id</th>\n",
       "      <th>url</th>\n",
       "      <th>comms_num</th>\n",
       "      <th>created</th>\n",
       "      <th>body</th>\n",
       "      <th>category</th>\n",
       "      <th>class</th>\n",
       "      <th>timestamp</th>\n",
       "    </tr>\n",
       "  </thead>\n",
       "  <tbody>\n",
       "    <tr>\n",
       "      <th>0</th>\n",
       "      <td>6 Months, 150,000 Pieces, 200 LEDs Later... My...</td>\n",
       "      <td>1269</td>\n",
       "      <td>b31lgu</td>\n",
       "      <td>https://i.redd.it/18yfvmxul4n21.jpg</td>\n",
       "      <td>46</td>\n",
       "      <td>1.553023e+09</td>\n",
       "      <td></td>\n",
       "      <td>top_subreddit</td>\n",
       "      <td>1</td>\n",
       "      <td>2019-03-19 14:20:28</td>\n",
       "    </tr>\n",
       "    <tr>\n",
       "      <th>1</th>\n",
       "      <td>Sorry if it’s been done before but i thought i...</td>\n",
       "      <td>796</td>\n",
       "      <td>aqb5c7</td>\n",
       "      <td>https://i.redd.it/6fqwr1q4ceg21.jpg</td>\n",
       "      <td>40</td>\n",
       "      <td>1.550090e+09</td>\n",
       "      <td></td>\n",
       "      <td>top_subreddit</td>\n",
       "      <td>1</td>\n",
       "      <td>2019-02-13 14:34:38</td>\n",
       "    </tr>\n",
       "    <tr>\n",
       "      <th>2</th>\n",
       "      <td>Star Wars Battlefront 2 Vardos Tower WIP. Me f...</td>\n",
       "      <td>768</td>\n",
       "      <td>axcpto</td>\n",
       "      <td>https://i.redd.it/ryvf1n4786k21.jpg</td>\n",
       "      <td>44</td>\n",
       "      <td>1.551735e+09</td>\n",
       "      <td></td>\n",
       "      <td>top_subreddit</td>\n",
       "      <td>1</td>\n",
       "      <td>2019-03-04 15:34:59</td>\n",
       "    </tr>\n",
       "    <tr>\n",
       "      <th>3</th>\n",
       "      <td>Current version of all my Box MOCs!</td>\n",
       "      <td>770</td>\n",
       "      <td>asz3n8</td>\n",
       "      <td>https://i.redd.it/lyhhr4x2uuh21.jpg</td>\n",
       "      <td>47</td>\n",
       "      <td>1.550726e+09</td>\n",
       "      <td></td>\n",
       "      <td>top_subreddit</td>\n",
       "      <td>1</td>\n",
       "      <td>2019-02-20 23:07:54</td>\n",
       "    </tr>\n",
       "    <tr>\n",
       "      <th>4</th>\n",
       "      <td>I hope you guys can appreciate my venator MOC</td>\n",
       "      <td>718</td>\n",
       "      <td>az818i</td>\n",
       "      <td>https://i.redd.it/46z1vsuiq5l21.jpg</td>\n",
       "      <td>27</td>\n",
       "      <td>1.552165e+09</td>\n",
       "      <td></td>\n",
       "      <td>top_subreddit</td>\n",
       "      <td>1</td>\n",
       "      <td>2019-03-09 14:59:58</td>\n",
       "    </tr>\n",
       "  </tbody>\n",
       "</table>\n",
       "</div>"
      ],
      "text/plain": [
       "                                               title  score      id  \\\n",
       "0  6 Months, 150,000 Pieces, 200 LEDs Later... My...   1269  b31lgu   \n",
       "1  Sorry if it’s been done before but i thought i...    796  aqb5c7   \n",
       "2  Star Wars Battlefront 2 Vardos Tower WIP. Me f...    768  axcpto   \n",
       "3                Current version of all my Box MOCs!    770  asz3n8   \n",
       "4      I hope you guys can appreciate my venator MOC    718  az818i   \n",
       "\n",
       "                                   url  comms_num       created body  \\\n",
       "0  https://i.redd.it/18yfvmxul4n21.jpg         46  1.553023e+09        \n",
       "1  https://i.redd.it/6fqwr1q4ceg21.jpg         40  1.550090e+09        \n",
       "2  https://i.redd.it/ryvf1n4786k21.jpg         44  1.551735e+09        \n",
       "3  https://i.redd.it/lyhhr4x2uuh21.jpg         47  1.550726e+09        \n",
       "4  https://i.redd.it/46z1vsuiq5l21.jpg         27  1.552165e+09        \n",
       "\n",
       "        category  class           timestamp  \n",
       "0  top_subreddit      1 2019-03-19 14:20:28  \n",
       "1  top_subreddit      1 2019-02-13 14:34:38  \n",
       "2  top_subreddit      1 2019-03-04 15:34:59  \n",
       "3  top_subreddit      1 2019-02-20 23:07:54  \n",
       "4  top_subreddit      1 2019-03-09 14:59:58  "
      ]
     },
     "execution_count": 23,
     "metadata": {},
     "output_type": "execute_result"
    }
   ],
   "source": [
    "# inspecting the head of the dataframe\n",
    "positive_data.head()"
   ]
  },
  {
   "cell_type": "code",
   "execution_count": 24,
   "metadata": {},
   "outputs": [
    {
     "data": {
      "text/plain": [
       "0"
      ]
     },
     "execution_count": 24,
     "metadata": {},
     "output_type": "execute_result"
    }
   ],
   "source": [
    "# this confirms that there are no posts that have a blank title\n",
    "(positive_data['title'] == '').sum()"
   ]
  },
  {
   "cell_type": "code",
   "execution_count": 25,
   "metadata": {},
   "outputs": [
    {
     "data": {
      "text/plain": [
       "754"
      ]
     },
     "execution_count": 25,
     "metadata": {},
     "output_type": "execute_result"
    }
   ],
   "source": [
    "# this is the number of rows that don't have a photo for the body of the post\n",
    "(positive_data['body'] != '').sum()"
   ]
  },
  {
   "cell_type": "code",
   "execution_count": 26,
   "metadata": {},
   "outputs": [],
   "source": [
    "# save the data\n",
    "positive_data.to_csv('data_pos_class.csv', index=False) "
   ]
  },
  {
   "cell_type": "code",
   "execution_count": 27,
   "metadata": {},
   "outputs": [
    {
     "data": {
      "text/plain": [
       "title                object\n",
       "score                 int64\n",
       "id                   object\n",
       "url                  object\n",
       "comms_num             int64\n",
       "created             float64\n",
       "body                 object\n",
       "category             object\n",
       "class                 int64\n",
       "timestamp    datetime64[ns]\n",
       "dtype: object"
      ]
     },
     "execution_count": 27,
     "metadata": {},
     "output_type": "execute_result"
    }
   ],
   "source": [
    "# data types\n",
    "positive_data.dtypes"
   ]
  },
  {
   "cell_type": "code",
   "execution_count": 28,
   "metadata": {},
   "outputs": [
    {
     "data": {
      "text/plain": [
       "0       1088\n",
       "1        502\n",
       "2        444\n",
       "3        380\n",
       "4        377\n",
       "5        323\n",
       "6        279\n",
       "7        242\n",
       "8        203\n",
       "9        194\n",
       "12       154\n",
       "10       141\n",
       "11       123\n",
       "13       115\n",
       "14       107\n",
       "15        92\n",
       "16        73\n",
       "17        68\n",
       "19        64\n",
       "18        50\n",
       "21        49\n",
       "20        49\n",
       "22        43\n",
       "24        37\n",
       "26        36\n",
       "27        30\n",
       "29        27\n",
       "23        25\n",
       "25        25\n",
       "30        18\n",
       "        ... \n",
       "265        1\n",
       "257        1\n",
       "253        1\n",
       "233        1\n",
       "221        1\n",
       "213        1\n",
       "197        1\n",
       "189        1\n",
       "399        1\n",
       "415        1\n",
       "305        1\n",
       "341        1\n",
       "751        1\n",
       "361        1\n",
       "347        1\n",
       "359        1\n",
       "375        1\n",
       "387        1\n",
       "833        1\n",
       "737        1\n",
       "621        1\n",
       "541        1\n",
       "517        1\n",
       "279        1\n",
       "445        1\n",
       "417        1\n",
       "397        1\n",
       "393        1\n",
       "369        1\n",
       "1179       1\n",
       "Name: comms_num, Length: 325, dtype: int64"
      ]
     },
     "execution_count": 28,
     "metadata": {},
     "output_type": "execute_result"
    }
   ],
   "source": [
    "positive_data.comms_num.value_counts()"
   ]
  },
  {
   "cell_type": "code",
   "execution_count": 29,
   "metadata": {},
   "outputs": [
    {
     "data": {
      "text/plain": [
       "top_subreddit              2897\n",
       "controversial_subreddit    1895\n",
       "hot_subreddit              1709\n",
       "new_subreddit                65\n",
       "Name: category, dtype: int64"
      ]
     },
     "execution_count": 29,
     "metadata": {},
     "output_type": "execute_result"
    }
   ],
   "source": [
    "# A breakdown of the different subreddit categories where our data is from.  Note, there are not any non-duplicates \n",
    "# from the 'gilded_subreddit' categroy.\n",
    "positive_data.category.value_counts()"
   ]
  },
  {
   "cell_type": "code",
   "execution_count": 30,
   "metadata": {},
   "outputs": [
    {
     "data": {
      "text/plain": [
       "6566"
      ]
     },
     "execution_count": 30,
     "metadata": {},
     "output_type": "execute_result"
    }
   ],
   "source": [
    "positive_data.id.value_counts().sum()"
   ]
  },
  {
   "cell_type": "markdown",
   "metadata": {},
   "source": [
    "<font color = blue size = 4.5>At this point, we have 6566 posts for training on the positive class.  We believe this is more than enough to build an initial model.</font>\n",
    "\n",
    "<font color = blue size = 4.5>Next, we pull data to train on the negative class.</font>"
   ]
  },
  {
   "cell_type": "code",
   "execution_count": 54,
   "metadata": {},
   "outputs": [
    {
     "data": {
      "text/plain": [
       "'57.107%'"
      ]
     },
     "execution_count": 54,
     "metadata": {},
     "output_type": "execute_result"
    }
   ],
   "source": [
    "# This is the percentage of the amount of gathered data from the subreddits that is being used to train for \n",
    "# the positive class.\n",
    "str(round((8566/15000)*100, 3)) + '%'"
   ]
  },
  {
   "cell_type": "markdown",
   "metadata": {},
   "source": [
    "<font color = blue>\n",
    "    This is pulling data from the sub-reddit category 'Popular'\n",
    "</font>"
   ]
  },
  {
   "cell_type": "code",
   "execution_count": 63,
   "metadata": {},
   "outputs": [
    {
     "name": "stdout",
     "output_type": "stream",
     "text": [
      "category Popular: top_subreddit\n",
      "category Popular: hot_subreddit\n",
      "category Popular: new_subreddit\n",
      "category Popular: controversial_subreddit\n",
      "category Popular: gilded_subreddit\n",
      "\n",
      "The totle number of posts pulled from the surver for negative data: 3847\n",
      "\n",
      "The number of unique posts in the new negative data dictionary: 3116\n",
      "The number of posts in the negative data duplicates dictionary: 731\n",
      "\n",
      "Our new dataframe is defined as: negative_data\n",
      "time: 107.995 seconds\n",
      "time: 1 minutes, 47.995 seconds\n"
     ]
    }
   ],
   "source": [
    "start_time = time.time()\n",
    "\n",
    "\n",
    "reddit = praw.Reddit(client_id='OnvJDrnt8doq4w', \\\n",
    "                     client_secret='0xQvVRkHk5RnLNATJMFXK5EPTFk', \\\n",
    "                     user_agent='Blake Wallace', \\\n",
    "                     username='Bw1097246', \\\n",
    "                     password='Bw00436948$')\n",
    "\n",
    "# instantiating a subreddit\n",
    "subreddit = reddit.subreddit('popular')\n",
    "\n",
    "# pulling from the subreddit in the five diffeent categories.  Note the 4 second intervals between each pull from reddit.\n",
    "top_subreddit = subreddit.top(limit=1000);\n",
    "\n",
    "\n",
    "time.sleep(4)\n",
    "hot_subreddit = subreddit.hot(limit=1000);\n",
    "\n",
    "\n",
    "time.sleep(4)\n",
    "new_subreddit = subreddit.new(limit=1000);\n",
    "\n",
    "\n",
    "time.sleep(4)\n",
    "controversial_subreddit = subreddit.controversial(limit=1000);\n",
    "\n",
    "\n",
    "time.sleep(4)\n",
    "gilded_subreddit = subreddit.controversial(limit=1000);\n",
    "\n",
    "\n",
    "\n",
    "\n",
    "lst = ['top_subreddit', 'hot_subreddit', 'new_subreddit', 'controversial_subreddit', 'gilded_subreddit']\n",
    "# lst = ['top_subreddit', 'hot_subreddit']\n",
    "\n",
    "data_dict_ne = {\n",
    "    'title'    : [],\n",
    "    'score'    : [],\n",
    "    'id'       : [],\n",
    "    'url'      : [],\n",
    "    'comms_num': [],\n",
    "    'created'  : [],\n",
    "    'body'     : [],\n",
    "    'category' : [],\n",
    "    'class'    : []\n",
    "}\n",
    "\n",
    "duplicates_dict_ne = {\n",
    "    'title'    : [],\n",
    "    'score'    : [],\n",
    "    'id'       : [],\n",
    "    'url'      : [],\n",
    "    'comms_num': [],\n",
    "    'created'  : [],\n",
    "    'body'     : [],\n",
    "    'category' : [],\n",
    "    'class'    : []\n",
    "}\n",
    "\n",
    "\n",
    "for item in lst:\n",
    "    print(f'category Popular: {item}')\n",
    "    for submission in eval(item):\n",
    "#         print(submission, submission.id)\n",
    "        if submission.id in set(data_dict_ne['id']) or submission.id in set(data_dict['id']):\n",
    "            duplicates_dict_ne['title'].append(submission.title)\n",
    "            duplicates_dict_ne['score'].append(submission.score)\n",
    "            duplicates_dict_ne['id'].append(submission.id)\n",
    "            duplicates_dict_ne['url'].append(submission.url)\n",
    "            duplicates_dict_ne['comms_num'].append(submission.num_comments)\n",
    "            duplicates_dict_ne['created'].append(submission.created)\n",
    "            duplicates_dict_ne['body'].append(submission.selftext)\n",
    "            duplicates_dict_ne['category'].append(item)\n",
    "            duplicates_dict_ne['class'] = 0\n",
    "        \n",
    "        else:\n",
    "#             print(submission)\n",
    "            data_dict_ne['title'].append(submission.title)\n",
    "            data_dict_ne['score'].append(submission.score)\n",
    "            data_dict_ne['id'].append(submission.id)\n",
    "            data_dict_ne['url'].append(submission.url)\n",
    "            data_dict_ne['comms_num'].append(submission.num_comments)\n",
    "            data_dict_ne['created'].append(submission.created)\n",
    "            data_dict_ne['body'].append(submission.selftext)\n",
    "            data_dict_ne['category'].append(item)\n",
    "            data_dict_ne['class'] = 0\n",
    "#             print(item)\n",
    "# print(len(data_dict['id']))\n",
    "            \n",
    "\n",
    "\n",
    "# constructing a data frame from the data\n",
    "negative_data = pd.DataFrame(data_dict_ne)\n",
    "\n",
    "\n",
    "# This function is taken from Rodrigues' website.  It converts the initial time stamp, which is a UNIX timestamp,\n",
    "# into something we can understand.\n",
    "def get_date(created):\n",
    "    return dt.datetime.fromtimestamp(created)\n",
    "\n",
    "\n",
    "# applying the timestamp function to create a new row.  This is how Rodrigues did it.  We follow his lead.\n",
    "_timestamp = negative_data['created'].apply(get_date)\n",
    "\n",
    "\n",
    "# Now, we create a new row in the dataframe to hold the new time stamp information\n",
    "negative_data = negative_data.assign(timestamp = _timestamp)\n",
    "\n",
    "\n",
    "print()\n",
    "print(f'The totle number of posts pulled from the surver for negative data: {len(data_dict_ne[\"id\"]) + len(duplicates_dict_ne[\"id\"])}')\n",
    "print()\n",
    "print(f'The number of unique posts in the new negative data dictionary: {len(data_dict_ne[\"id\"])}')\n",
    "print(f'The number of posts in the negative data duplicates dictionary: {len(duplicates_dict_ne[\"id\"])}')\n",
    "print()\n",
    "print(f'Our new dataframe is defined as: negative_data')\n",
    "\n",
    "\n",
    "\n",
    "end_time = round(time.time() - start_time, 3)\n",
    "print(f'time: {end_time} seconds')\n",
    "end_time_minutes = int(end_time/ 60)\n",
    "end_time_seconds = round(end_time % 60, 3)\n",
    "\n",
    "print(f'time: {end_time_minutes} minutes, {end_time_seconds} seconds')\n",
    "      \n",
    "      "
   ]
  },
  {
   "cell_type": "markdown",
   "metadata": {},
   "source": [
    "<font color = blue>\n",
    "    Our negative class is still underrepresented compared with the positive class.\n",
    "</font>"
   ]
  },
  {
   "cell_type": "code",
   "execution_count": 64,
   "metadata": {},
   "outputs": [
    {
     "data": {
      "text/plain": [
       "(6566, 10)"
      ]
     },
     "execution_count": 64,
     "metadata": {},
     "output_type": "execute_result"
    }
   ],
   "source": [
    "positive_data.shape"
   ]
  },
  {
   "cell_type": "code",
   "execution_count": 65,
   "metadata": {},
   "outputs": [
    {
     "data": {
      "text/plain": [
       "(3116, 10)"
      ]
     },
     "execution_count": 65,
     "metadata": {},
     "output_type": "execute_result"
    }
   ],
   "source": [
    "negative_data.shape"
   ]
  },
  {
   "cell_type": "markdown",
   "metadata": {},
   "source": [
    "<font color = blue>We pull more data, this time considering posts where the body is populated with photos.  Remember, we will be training on the 'title' sub-category in the data representing the positive class because this is where the text in the posts is housed.</font>"
   ]
  },
  {
   "cell_type": "markdown",
   "metadata": {},
   "source": [
    "<font color = blue>This is pulling data from the sub-reddit category 'Pictures'</font>"
   ]
  },
  {
   "cell_type": "code",
   "execution_count": 66,
   "metadata": {},
   "outputs": [
    {
     "name": "stdout",
     "output_type": "stream",
     "text": [
      "category Pictures: top_subreddit\n",
      "category Pictures: hot_subreddit\n",
      "category Pictures: new_subreddit\n",
      "category Pictures: controversial_subreddit\n",
      "category Pictures: gilded_subreddit\n",
      "\n",
      "The totle number of posts pulled from the surver for negative data: 8563\n",
      "\n",
      "The number of unique posts in the new negative data dictionary: 5914\n",
      "The number of posts in the negative data duplicates dictionary: 2649\n",
      "\n",
      "Our new dataframe is defined as: negative_data\n",
      "time: 106.076 seconds\n",
      "time: 1 minutes, 46.076 seconds\n"
     ]
    }
   ],
   "source": [
    "start_time = time.time()\n",
    "\n",
    "\n",
    "reddit = praw.Reddit(client_id='OnvJDrnt8doq4w', \\\n",
    "                     client_secret='0xQvVRkHk5RnLNATJMFXK5EPTFk', \\\n",
    "                     user_agent='Blake Wallace', \\\n",
    "                     username='Bw1097246', \\\n",
    "                     password='Bw00436948$')\n",
    "\n",
    "# instantiating a subreddit\n",
    "subreddit = reddit.subreddit('Pictures')\n",
    "\n",
    "# pulling from the subreddit in the five diffeent categories.  Note the 4 second intervals between each pull from reddit.\n",
    "top_subreddit = subreddit.top(limit=1000);\n",
    "\n",
    "\n",
    "time.sleep(4)\n",
    "hot_subreddit = subreddit.hot(limit=1000);\n",
    "\n",
    "\n",
    "time.sleep(4)\n",
    "new_subreddit = subreddit.new(limit=1000);\n",
    "\n",
    "\n",
    "time.sleep(4)\n",
    "controversial_subreddit = subreddit.controversial(limit=1000);\n",
    "\n",
    "\n",
    "time.sleep(4)\n",
    "gilded_subreddit = subreddit.controversial(limit=1000);\n",
    "\n",
    "\n",
    "\n",
    "\n",
    "lst = ['top_subreddit', 'hot_subreddit', 'new_subreddit', 'controversial_subreddit', 'gilded_subreddit']\n",
    "# lst = ['top_subreddit', 'hot_subreddit']\n",
    "\n",
    "# data_dict_ne = {\n",
    "#     'title'    : [],\n",
    "#     'score'    : [],\n",
    "#     'id'       : [],\n",
    "#     'url'      : [],\n",
    "#     'comms_num': [],\n",
    "#     'created'  : [],\n",
    "#     'body'     : [],\n",
    "#     'category' : [],\n",
    "#     'class'    : []\n",
    "# }\n",
    "\n",
    "# duplicates_dict_ne = {\n",
    "#     'title'    : [],\n",
    "#     'score'    : [],\n",
    "#     'id'       : [],\n",
    "#     'url'      : [],\n",
    "#     'comms_num': [],\n",
    "#     'created'  : [],\n",
    "#     'body'     : [],\n",
    "#     'category' : [],\n",
    "#     'class'    : []\n",
    "# }\n",
    "\n",
    "\n",
    "for item in lst:\n",
    "    print(f'category Pictures: {item}')\n",
    "    for submission in eval(item):\n",
    "#         print(submission, submission.id)\n",
    "        if submission.id in set(data_dict_ne['id']) or submission.id in set(data_dict['id']):\n",
    "            duplicates_dict_ne['title'].append(submission.title)\n",
    "            duplicates_dict_ne['score'].append(submission.score)\n",
    "            duplicates_dict_ne['id'].append(submission.id)\n",
    "            duplicates_dict_ne['url'].append(submission.url)\n",
    "            duplicates_dict_ne['comms_num'].append(submission.num_comments)\n",
    "            duplicates_dict_ne['created'].append(submission.created)\n",
    "            duplicates_dict_ne['body'].append(submission.selftext)\n",
    "            duplicates_dict_ne['category'].append(item)\n",
    "            duplicates_dict_ne['class'] = 1\n",
    "        \n",
    "        else:\n",
    "#             print(submission)\n",
    "            data_dict_ne['title'].append(submission.title)\n",
    "            data_dict_ne['score'].append(submission.score)\n",
    "            data_dict_ne['id'].append(submission.id)\n",
    "            data_dict_ne['url'].append(submission.url)\n",
    "            data_dict_ne['comms_num'].append(submission.num_comments)\n",
    "            data_dict_ne['created'].append(submission.created)\n",
    "            data_dict_ne['body'].append(submission.selftext)\n",
    "            data_dict_ne['category'].append(item)\n",
    "            data_dict_ne['class'] = 1\n",
    "#             print(item)\n",
    "# print(len(data_dict['id']))\n",
    "            \n",
    "\n",
    "\n",
    "# constructing a data frame from the data\n",
    "negative_data = pd.DataFrame(data_dict_ne)\n",
    "\n",
    "\n",
    "# This function is taken from Rodrigues' website.  It converts the initial time stamp, which is a UNIX timestamp,\n",
    "# into something we can understand.\n",
    "def get_date(created):\n",
    "    return dt.datetime.fromtimestamp(created)\n",
    "\n",
    "\n",
    "# applying the timestamp function to create a new row.  This is how Rodrigues did it.  We follow his lead.\n",
    "_timestamp = negative_data['created'].apply(get_date)\n",
    "\n",
    "\n",
    "# Now, we create a new row in the dataframe to hold the new time stamp information\n",
    "negative_data = negative_data.assign(timestamp = _timestamp)\n",
    "\n",
    "\n",
    "print()\n",
    "print(f'The totle number of posts pulled from the surver for negative data: {len(data_dict_ne[\"id\"]) + len(duplicates_dict_ne[\"id\"])}')\n",
    "print()\n",
    "print(f'The number of unique posts in the new negative data dictionary: {len(data_dict_ne[\"id\"])}')\n",
    "print(f'The number of posts in the negative data duplicates dictionary: {len(duplicates_dict_ne[\"id\"])}')\n",
    "print()\n",
    "print(f'Our new dataframe is defined as: negative_data')\n",
    "\n",
    "\n",
    "\n",
    "end_time = round(time.time() - start_time, 3)\n",
    "print(f'time: {end_time} seconds')\n",
    "end_time_minutes = int(end_time/ 60)\n",
    "end_time_seconds = round(end_time % 60, 3)\n",
    "\n",
    "print(f'time: {end_time_minutes} minutes, {end_time_seconds} seconds')\n",
    "      \n",
    "      "
   ]
  },
  {
   "cell_type": "code",
   "execution_count": 67,
   "metadata": {},
   "outputs": [
    {
     "data": {
      "text/plain": [
       "(6566, 10)"
      ]
     },
     "execution_count": 67,
     "metadata": {},
     "output_type": "execute_result"
    }
   ],
   "source": [
    "positive_data.shape"
   ]
  },
  {
   "cell_type": "code",
   "execution_count": 68,
   "metadata": {},
   "outputs": [
    {
     "data": {
      "text/plain": [
       "(5914, 10)"
      ]
     },
     "execution_count": 68,
     "metadata": {},
     "output_type": "execute_result"
    }
   ],
   "source": [
    "negative_data.shape"
   ]
  },
  {
   "cell_type": "markdown",
   "metadata": {},
   "source": [
    "<font color = blue> This is pulling data from the sub-reddit category 'original'.  Note, here we are only pulling 2500 posts, just trying to get about 600 more posts to balance out the positives and the negatives in the data.</font>"
   ]
  },
  {
   "cell_type": "code",
   "execution_count": 75,
   "metadata": {},
   "outputs": [
    {
     "name": "stdout",
     "output_type": "stream",
     "text": [
      "category original: top_subreddit\n",
      "category original: hot_subreddit\n",
      "category original: new_subreddit\n",
      "category original: controversial_subreddit\n",
      "category original: gilded_subreddit\n",
      "\n",
      "The totle number of posts pulled from the surver for negative data: 9454\n",
      "\n",
      "The number of unique posts in the new negative data dictionary: 6033\n",
      "The number of posts in the negative data duplicates dictionary: 3421\n",
      "\n",
      "Our new dataframe is defined as: negative_data\n",
      "time: 27.901 seconds\n",
      "time: 0 minutes, 27.901 seconds\n"
     ]
    }
   ],
   "source": [
    "start_time = time.time()\n",
    "\n",
    "\n",
    "reddit = praw.Reddit(client_id='OnvJDrnt8doq4w', \\\n",
    "                     client_secret='0xQvVRkHk5RnLNATJMFXK5EPTFk', \\\n",
    "                     user_agent='Blake Wallace', \\\n",
    "                     username='Bw1097246', \\\n",
    "                     password='Bw00436948$')\n",
    "\n",
    "# instantiating a subreddit\n",
    "subreddit = reddit.subreddit('original')\n",
    "\n",
    "# pulling from the subreddit in the five diffeent categories.  Note the 4 second intervals between each pull from reddit.\n",
    "top_subreddit = subreddit.top(limit=500);\n",
    "\n",
    "\n",
    "time.sleep(4)\n",
    "hot_subreddit = subreddit.hot(limit=500);\n",
    "\n",
    "\n",
    "time.sleep(4)\n",
    "new_subreddit = subreddit.new(limit=500);\n",
    "\n",
    "\n",
    "time.sleep(4)\n",
    "controversial_subreddit = subreddit.controversial(limit=500);\n",
    "\n",
    "\n",
    "time.sleep(4)\n",
    "gilded_subreddit = subreddit.controversial(limit=500);\n",
    "\n",
    "\n",
    "\n",
    "\n",
    "lst = ['top_subreddit', 'hot_subreddit', 'new_subreddit', 'controversial_subreddit', 'gilded_subreddit']\n",
    "# lst = ['top_subreddit', 'hot_subreddit']\n",
    "\n",
    "# data_dict_ne = {\n",
    "#     'title'    : [],\n",
    "#     'score'    : [],\n",
    "#     'id'       : [],\n",
    "#     'url'      : [],\n",
    "#     'comms_num': [],\n",
    "#     'created'  : [],\n",
    "#     'body'     : [],\n",
    "#     'category' : [],\n",
    "#     'class'    : []\n",
    "# }\n",
    "\n",
    "# duplicates_dict_ne = {\n",
    "#     'title'    : [],\n",
    "#     'score'    : [],\n",
    "#     'id'       : [],\n",
    "#     'url'      : [],\n",
    "#     'comms_num': [],\n",
    "#     'created'  : [],\n",
    "#     'body'     : [],\n",
    "#     'category' : [],\n",
    "#     'class'    : []\n",
    "# }\n",
    "\n",
    "\n",
    "for item in lst:\n",
    "    print(f'category original: {item}')\n",
    "    for submission in eval(item):\n",
    "#         print(submission, submission.id)\n",
    "        if submission.id in set(data_dict_ne['id']) or submission.id in set(data_dict['id']):\n",
    "            duplicates_dict_ne['title'].append(submission.title)\n",
    "            duplicates_dict_ne['score'].append(submission.score)\n",
    "            duplicates_dict_ne['id'].append(submission.id)\n",
    "            duplicates_dict_ne['url'].append(submission.url)\n",
    "            duplicates_dict_ne['comms_num'].append(submission.num_comments)\n",
    "            duplicates_dict_ne['created'].append(submission.created)\n",
    "            duplicates_dict_ne['body'].append(submission.selftext)\n",
    "            duplicates_dict_ne['category'].append(item)\n",
    "            duplicates_dict_ne['class'] = 1\n",
    "        \n",
    "        else:\n",
    "#             print(submission)\n",
    "            data_dict_ne['title'].append(submission.title)\n",
    "            data_dict_ne['score'].append(submission.score)\n",
    "            data_dict_ne['id'].append(submission.id)\n",
    "            data_dict_ne['url'].append(submission.url)\n",
    "            data_dict_ne['comms_num'].append(submission.num_comments)\n",
    "            data_dict_ne['created'].append(submission.created)\n",
    "            data_dict_ne['body'].append(submission.selftext)\n",
    "            data_dict_ne['category'].append(item)\n",
    "            data_dict_ne['class'] = 0\n",
    "#             print(item)\n",
    "# print(len(data_dict['id']))\n",
    "            \n",
    "\n",
    "\n",
    "# constructing a data frame from the data\n",
    "negative_data = pd.DataFrame(data_dict_ne)\n",
    "\n",
    "\n",
    "# This function is taken from Rodrigues' website.  It converts the initial time stamp, which is a UNIX timestamp,\n",
    "# into something we can understand.\n",
    "def get_date(created):\n",
    "    return dt.datetime.fromtimestamp(created)\n",
    "\n",
    "\n",
    "# applying the timestamp function to create a new row.  This is how Rodrigues did it.  We follow his lead.\n",
    "_timestamp = negative_data['created'].apply(get_date)\n",
    "\n",
    "\n",
    "# Now, we create a new row in the dataframe to hold the new time stamp information\n",
    "negative_data = negative_data.assign(timestamp = _timestamp)\n",
    "\n",
    "\n",
    "print()\n",
    "print(f'The totle number of posts pulled from the surver for negative data: {len(data_dict_ne[\"id\"]) + len(duplicates_dict_ne[\"id\"])}')\n",
    "print()\n",
    "print(f'The number of unique posts in the new negative data dictionary: {len(data_dict_ne[\"id\"])}')\n",
    "print(f'The number of posts in the negative data duplicates dictionary: {len(duplicates_dict_ne[\"id\"])}')\n",
    "print()\n",
    "print(f'Our new dataframe is defined as: negative_data')\n",
    "\n",
    "\n",
    "\n",
    "end_time = round(time.time() - start_time, 3)\n",
    "print(f'time: {end_time} seconds')\n",
    "end_time_minutes = int(end_time/ 60)\n",
    "end_time_seconds = round(end_time % 60, 3)\n",
    "\n",
    "print(f'time: {end_time_minutes} minutes, {end_time_seconds} seconds')\n",
    "      \n",
    "      "
   ]
  },
  {
   "cell_type": "markdown",
   "metadata": {},
   "source": [
    "<font color = blue>This is pulling data from the sub-reddit category 'nostalgia'.  Note that it would be nice to have another 500 data points.</font>"
   ]
  },
  {
   "cell_type": "code",
   "execution_count": 78,
   "metadata": {},
   "outputs": [
    {
     "data": {
      "text/plain": [
       "(6566, 10)"
      ]
     },
     "execution_count": 78,
     "metadata": {},
     "output_type": "execute_result"
    }
   ],
   "source": [
    "positive_data.shape"
   ]
  },
  {
   "cell_type": "code",
   "execution_count": 79,
   "metadata": {},
   "outputs": [
    {
     "data": {
      "text/plain": [
       "(6033, 10)"
      ]
     },
     "execution_count": 79,
     "metadata": {},
     "output_type": "execute_result"
    }
   ],
   "source": [
    "negative_data.shape"
   ]
  },
  {
   "cell_type": "code",
   "execution_count": 80,
   "metadata": {},
   "outputs": [
    {
     "name": "stdout",
     "output_type": "stream",
     "text": [
      "category nostalgia: top_subreddit\n",
      "category nostalgia: hot_subreddit\n",
      "category nostalgia: new_subreddit\n",
      "category nostalgia: controversial_subreddit\n",
      "category nostalgia: gilded_subreddit\n",
      "\n",
      "The totle number of posts pulled from the surver for negative data: 10454\n",
      "\n",
      "The number of unique posts in the new negative data dictionary: 6646\n",
      "The number of posts in the negative data duplicates dictionary: 3808\n",
      "\n",
      "Our new dataframe is defined as: negative_data\n",
      "time: 38.057 seconds\n",
      "time: 0 minutes, 38.057 seconds\n"
     ]
    }
   ],
   "source": [
    "start_time = time.time()\n",
    "\n",
    "\n",
    "reddit = praw.Reddit(client_id='OnvJDrnt8doq4w', \\\n",
    "                     client_secret='0xQvVRkHk5RnLNATJMFXK5EPTFk', \\\n",
    "                     user_agent='Blake Wallace', \\\n",
    "                     username='Bw1097246', \\\n",
    "                     password='Bw00436948$')\n",
    "\n",
    "# instantiating a subreddit\n",
    "subreddit = reddit.subreddit('nostalgia')\n",
    "\n",
    "# pulling from the subreddit in the five diffeent categories.  Note the 4 second intervals between each pull from reddit.\n",
    "top_subreddit = subreddit.top(limit=200);\n",
    "\n",
    "\n",
    "time.sleep(4)\n",
    "hot_subreddit = subreddit.hot(limit=200);\n",
    "\n",
    "\n",
    "time.sleep(4)\n",
    "new_subreddit = subreddit.new(limit=200);\n",
    "\n",
    "\n",
    "time.sleep(4)\n",
    "controversial_subreddit = subreddit.controversial(limit=200);\n",
    "\n",
    "\n",
    "time.sleep(4)\n",
    "gilded_subreddit = subreddit.controversial(limit=200);\n",
    "\n",
    "\n",
    "\n",
    "\n",
    "lst = ['top_subreddit', 'hot_subreddit', 'new_subreddit', 'controversial_subreddit', 'gilded_subreddit']\n",
    "# lst = ['top_subreddit', 'hot_subreddit']\n",
    "\n",
    "# data_dict_ne = {\n",
    "#     'title'    : [],\n",
    "#     'score'    : [],\n",
    "#     'id'       : [],\n",
    "#     'url'      : [],\n",
    "#     'comms_num': [],\n",
    "#     'created'  : [],\n",
    "#     'body'     : [],\n",
    "#     'category' : [],\n",
    "#     'class'    : []\n",
    "# }\n",
    "\n",
    "# duplicates_dict_ne = {\n",
    "#     'title'    : [],\n",
    "#     'score'    : [],\n",
    "#     'id'       : [],\n",
    "#     'url'      : [],\n",
    "#     'comms_num': [],\n",
    "#     'created'  : [],\n",
    "#     'body'     : [],\n",
    "#     'category' : [],\n",
    "#     'class'    : []\n",
    "# }\n",
    "\n",
    "\n",
    "for item in lst:\n",
    "    print(f'category nostalgia: {item}')\n",
    "    for submission in eval(item):\n",
    "#         print(submission, submission.id)\n",
    "        if submission.id in set(data_dict_ne['id']) or submission.id in set(data_dict['id']):\n",
    "            duplicates_dict_ne['title'].append(submission.title)\n",
    "            duplicates_dict_ne['score'].append(submission.score)\n",
    "            duplicates_dict_ne['id'].append(submission.id)\n",
    "            duplicates_dict_ne['url'].append(submission.url)\n",
    "            duplicates_dict_ne['comms_num'].append(submission.num_comments)\n",
    "            duplicates_dict_ne['created'].append(submission.created)\n",
    "            duplicates_dict_ne['body'].append(submission.selftext)\n",
    "            duplicates_dict_ne['category'].append(item)\n",
    "            duplicates_dict_ne['class'] = 1\n",
    "        \n",
    "        else:\n",
    "#             print(submission)\n",
    "            data_dict_ne['title'].append(submission.title)\n",
    "            data_dict_ne['score'].append(submission.score)\n",
    "            data_dict_ne['id'].append(submission.id)\n",
    "            data_dict_ne['url'].append(submission.url)\n",
    "            data_dict_ne['comms_num'].append(submission.num_comments)\n",
    "            data_dict_ne['created'].append(submission.created)\n",
    "            data_dict_ne['body'].append(submission.selftext)\n",
    "            data_dict_ne['category'].append(item)\n",
    "            data_dict_ne['class'] = 0\n",
    "#             print(item)\n",
    "# print(len(data_dict['id']))\n",
    "            \n",
    "\n",
    "\n",
    "# constructing a data frame from the data\n",
    "negative_data = pd.DataFrame(data_dict_ne)\n",
    "\n",
    "\n",
    "# This function is taken from Rodrigues' website.  It converts the initial time stamp, which is a UNIX timestamp,\n",
    "# into something we can understand.\n",
    "def get_date(created):\n",
    "    return dt.datetime.fromtimestamp(created)\n",
    "\n",
    "\n",
    "# applying the timestamp function to create a new row.  This is how Rodrigues did it.  We follow his lead.\n",
    "_timestamp = negative_data['created'].apply(get_date)\n",
    "\n",
    "\n",
    "# Now, we create a new row in the dataframe to hold the new time stamp information\n",
    "negative_data = negative_data.assign(timestamp = _timestamp)\n",
    "\n",
    "\n",
    "print()\n",
    "print(f'The totle number of posts pulled from the surver for negative data: {len(data_dict_ne[\"id\"]) + len(duplicates_dict_ne[\"id\"])}')\n",
    "print()\n",
    "print(f'The number of unique posts in the new negative data dictionary: {len(data_dict_ne[\"id\"])}')\n",
    "print(f'The number of posts in the negative data duplicates dictionary: {len(duplicates_dict_ne[\"id\"])}')\n",
    "print()\n",
    "print(f'Our new dataframe is defined as: negative_data')\n",
    "\n",
    "\n",
    "\n",
    "end_time = round(time.time() - start_time, 3)\n",
    "print(f'time: {end_time} seconds')\n",
    "end_time_minutes = int(end_time/ 60)\n",
    "end_time_seconds = round(end_time % 60, 3)\n",
    "\n",
    "print(f'time: {end_time_minutes} minutes, {end_time_seconds} seconds')\n",
    "      \n",
    "      "
   ]
  },
  {
   "cell_type": "code",
   "execution_count": 81,
   "metadata": {},
   "outputs": [
    {
     "data": {
      "text/plain": [
       "(6566, 10)"
      ]
     },
     "execution_count": 81,
     "metadata": {},
     "output_type": "execute_result"
    }
   ],
   "source": [
    "positive_data.shape"
   ]
  },
  {
   "cell_type": "code",
   "execution_count": 82,
   "metadata": {},
   "outputs": [
    {
     "data": {
      "text/plain": [
       "(6646, 10)"
      ]
     },
     "execution_count": 82,
     "metadata": {},
     "output_type": "execute_result"
    }
   ],
   "source": [
    "negative_data.shape"
   ]
  },
  {
   "cell_type": "markdown",
   "metadata": {},
   "source": [
    "<font color = blue>\n",
    "    We are now ready to clean and explore our data to prepare it for modeling.  In the context of natural language processing, this preparation includes some process of vectorization.  We will use a count vectorizer for this project.  First, let's start by doing some general data exploration.\n",
    "</font>"
   ]
  },
  {
   "cell_type": "code",
   "execution_count": 97,
   "metadata": {},
   "outputs": [
    {
     "data": {
      "text/plain": [
       "dict"
      ]
     },
     "execution_count": 97,
     "metadata": {},
     "output_type": "execute_result"
    }
   ],
   "source": [
    "# checking the data type of the negative category dictionary\n",
    "type(data_dict_ne)"
   ]
  },
  {
   "cell_type": "code",
   "execution_count": 98,
   "metadata": {},
   "outputs": [
    {
     "data": {
      "text/plain": [
       "6646"
      ]
     },
     "execution_count": 98,
     "metadata": {},
     "output_type": "execute_result"
    }
   ],
   "source": [
    "# length of the dictionary, this is more of a double check than anything else.  We want to make sure our code is\n",
    "# working properly before taking it elsewhere.\n",
    "len(data_dict_ne['id'])"
   ]
  },
  {
   "cell_type": "code",
   "execution_count": 99,
   "metadata": {},
   "outputs": [
    {
     "data": {
      "text/plain": [
       "dict_keys(['title', 'score', 'id', 'url', 'comms_num', 'created', 'body', 'category', 'class'])"
      ]
     },
     "execution_count": 99,
     "metadata": {},
     "output_type": "execute_result"
    }
   ],
   "source": [
    "# keys in the data dictionary\n",
    "data_dict_ne.keys()"
   ]
  },
  {
   "cell_type": "code",
   "execution_count": 100,
   "metadata": {},
   "outputs": [
    {
     "data": {
      "text/html": [
       "<div>\n",
       "<style scoped>\n",
       "    .dataframe tbody tr th:only-of-type {\n",
       "        vertical-align: middle;\n",
       "    }\n",
       "\n",
       "    .dataframe tbody tr th {\n",
       "        vertical-align: top;\n",
       "    }\n",
       "\n",
       "    .dataframe thead th {\n",
       "        text-align: right;\n",
       "    }\n",
       "</style>\n",
       "<table border=\"1\" class=\"dataframe\">\n",
       "  <thead>\n",
       "    <tr style=\"text-align: right;\">\n",
       "      <th></th>\n",
       "      <th>title</th>\n",
       "      <th>score</th>\n",
       "      <th>id</th>\n",
       "      <th>url</th>\n",
       "      <th>comms_num</th>\n",
       "      <th>created</th>\n",
       "      <th>body</th>\n",
       "      <th>category</th>\n",
       "      <th>class</th>\n",
       "      <th>timestamp</th>\n",
       "    </tr>\n",
       "  </thead>\n",
       "  <tbody>\n",
       "    <tr>\n",
       "      <th>0</th>\n",
       "      <td>Guardians of the Front Page</td>\n",
       "      <td>283478</td>\n",
       "      <td>5gn8ru</td>\n",
       "      <td>http://i.imgur.com/OOFRJvr.gifv</td>\n",
       "      <td>5024</td>\n",
       "      <td>1.480960e+09</td>\n",
       "      <td></td>\n",
       "      <td>top_subreddit</td>\n",
       "      <td>0</td>\n",
       "      <td>2016-12-05 11:41:14</td>\n",
       "    </tr>\n",
       "    <tr>\n",
       "      <th>1</th>\n",
       "      <td>Thanks, Obama.</td>\n",
       "      <td>230829</td>\n",
       "      <td>5bx4bx</td>\n",
       "      <td>https://i.reddituploads.com/58986555f545487c9d...</td>\n",
       "      <td>6116</td>\n",
       "      <td>1.478651e+09</td>\n",
       "      <td></td>\n",
       "      <td>top_subreddit</td>\n",
       "      <td>0</td>\n",
       "      <td>2016-11-08 18:27:25</td>\n",
       "    </tr>\n",
       "    <tr>\n",
       "      <th>2</th>\n",
       "      <td>I am Barack Obama, President of the United Sta...</td>\n",
       "      <td>216148</td>\n",
       "      <td>z1c9z</td>\n",
       "      <td>https://www.reddit.com/r/IAmA/comments/z1c9z/i...</td>\n",
       "      <td>23252</td>\n",
       "      <td>1.346270e+09</td>\n",
       "      <td>Hi, I’m Barack Obama, President of the United ...</td>\n",
       "      <td>top_subreddit</td>\n",
       "      <td>0</td>\n",
       "      <td>2012-08-29 15:01:36</td>\n",
       "    </tr>\n",
       "    <tr>\n",
       "      <th>3</th>\n",
       "      <td>This is Shelia Fredrick, a flight attendant. S...</td>\n",
       "      <td>222813</td>\n",
       "      <td>5sfexx</td>\n",
       "      <td>https://i.reddituploads.com/d1e77b5c62694624ba...</td>\n",
       "      <td>4370</td>\n",
       "      <td>1.486401e+09</td>\n",
       "      <td></td>\n",
       "      <td>top_subreddit</td>\n",
       "      <td>0</td>\n",
       "      <td>2017-02-06 11:06:40</td>\n",
       "    </tr>\n",
       "    <tr>\n",
       "      <th>4</th>\n",
       "      <td>1 dad reflex 2 children</td>\n",
       "      <td>204183</td>\n",
       "      <td>5jrlw1</td>\n",
       "      <td>http://i.imgur.com/Rum0zSz.gifv</td>\n",
       "      <td>5672</td>\n",
       "      <td>1.482426e+09</td>\n",
       "      <td></td>\n",
       "      <td>top_subreddit</td>\n",
       "      <td>0</td>\n",
       "      <td>2016-12-22 10:57:35</td>\n",
       "    </tr>\n",
       "  </tbody>\n",
       "</table>\n",
       "</div>"
      ],
      "text/plain": [
       "                                               title   score      id  \\\n",
       "0                        Guardians of the Front Page  283478  5gn8ru   \n",
       "1                                     Thanks, Obama.  230829  5bx4bx   \n",
       "2  I am Barack Obama, President of the United Sta...  216148   z1c9z   \n",
       "3  This is Shelia Fredrick, a flight attendant. S...  222813  5sfexx   \n",
       "4                            1 dad reflex 2 children  204183  5jrlw1   \n",
       "\n",
       "                                                 url  comms_num       created  \\\n",
       "0                    http://i.imgur.com/OOFRJvr.gifv       5024  1.480960e+09   \n",
       "1  https://i.reddituploads.com/58986555f545487c9d...       6116  1.478651e+09   \n",
       "2  https://www.reddit.com/r/IAmA/comments/z1c9z/i...      23252  1.346270e+09   \n",
       "3  https://i.reddituploads.com/d1e77b5c62694624ba...       4370  1.486401e+09   \n",
       "4                    http://i.imgur.com/Rum0zSz.gifv       5672  1.482426e+09   \n",
       "\n",
       "                                                body       category  class  \\\n",
       "0                                                     top_subreddit      0   \n",
       "1                                                     top_subreddit      0   \n",
       "2  Hi, I’m Barack Obama, President of the United ...  top_subreddit      0   \n",
       "3                                                     top_subreddit      0   \n",
       "4                                                     top_subreddit      0   \n",
       "\n",
       "            timestamp  \n",
       "0 2016-12-05 11:41:14  \n",
       "1 2016-11-08 18:27:25  \n",
       "2 2012-08-29 15:01:36  \n",
       "3 2017-02-06 11:06:40  \n",
       "4 2016-12-22 10:57:35  "
      ]
     },
     "execution_count": 100,
     "metadata": {},
     "output_type": "execute_result"
    }
   ],
   "source": [
    "# inspecting the head of the dataframe\n",
    "negative_data.head()"
   ]
  },
  {
   "cell_type": "code",
   "execution_count": 101,
   "metadata": {},
   "outputs": [
    {
     "data": {
      "text/plain": [
       "0"
      ]
     },
     "execution_count": 101,
     "metadata": {},
     "output_type": "execute_result"
    }
   ],
   "source": [
    "# this confirms that there are no posts that have a blank title in the negative classification\n",
    "(negative_data['title'] == '').sum()"
   ]
  },
  {
   "cell_type": "code",
   "execution_count": 102,
   "metadata": {},
   "outputs": [
    {
     "data": {
      "text/plain": [
       "498"
      ]
     },
     "execution_count": 102,
     "metadata": {},
     "output_type": "execute_result"
    }
   ],
   "source": [
    "# this is the number of rows that don't have a photo for the body of the post\n",
    "(negative_data['body'] != '').sum()"
   ]
  },
  {
   "cell_type": "code",
   "execution_count": 103,
   "metadata": {},
   "outputs": [
    {
     "data": {
      "text/plain": [
       "controversial_subreddit    210\n",
       "new_subreddit              154\n",
       "hot_subreddit               79\n",
       "top_subreddit               55\n",
       "Name: category, dtype: int64"
      ]
     },
     "execution_count": 103,
     "metadata": {},
     "output_type": "execute_result"
    }
   ],
   "source": [
    "negative_data[negative_data['body'] != '']['category'].value_counts()"
   ]
  },
  {
   "cell_type": "code",
   "execution_count": 104,
   "metadata": {},
   "outputs": [],
   "source": [
    "# save the data\n",
    "negative_data.to_csv('data_neg_class.csv', index=False) "
   ]
  },
  {
   "cell_type": "code",
   "execution_count": 105,
   "metadata": {},
   "outputs": [
    {
     "data": {
      "text/plain": [
       "title                object\n",
       "score                 int64\n",
       "id                   object\n",
       "url                  object\n",
       "comms_num             int64\n",
       "created             float64\n",
       "body                 object\n",
       "category             object\n",
       "class                 int64\n",
       "timestamp    datetime64[ns]\n",
       "dtype: object"
      ]
     },
     "execution_count": 105,
     "metadata": {},
     "output_type": "execute_result"
    }
   ],
   "source": [
    "# data types\n",
    "negative_data.dtypes"
   ]
  },
  {
   "cell_type": "code",
   "execution_count": 106,
   "metadata": {},
   "outputs": [
    {
     "data": {
      "text/plain": [
       "0        1543\n",
       "1         547\n",
       "2         437\n",
       "3         276\n",
       "4         235\n",
       "5         172\n",
       "6         105\n",
       "7          84\n",
       "8          79\n",
       "9          67\n",
       "11         50\n",
       "10         45\n",
       "12         41\n",
       "13         32\n",
       "14         32\n",
       "23         23\n",
       "15         22\n",
       "16         20\n",
       "17         20\n",
       "24         19\n",
       "21         19\n",
       "19         18\n",
       "18         16\n",
       "31         14\n",
       "27         13\n",
       "22         12\n",
       "30         12\n",
       "25         12\n",
       "48         12\n",
       "20         11\n",
       "         ... \n",
       "8778        1\n",
       "590         1\n",
       "606         1\n",
       "614         1\n",
       "4712        1\n",
       "618         1\n",
       "622         1\n",
       "630         1\n",
       "634         1\n",
       "530         1\n",
       "2575        1\n",
       "526         1\n",
       "8609        1\n",
       "2483        1\n",
       "438         1\n",
       "2487        1\n",
       "450         1\n",
       "2503        1\n",
       "4556        1\n",
       "2523        1\n",
       "2527        1\n",
       "2567        1\n",
       "498         1\n",
       "2547        1\n",
       "12792       1\n",
       "2555        1\n",
       "4604        1\n",
       "510         1\n",
       "514         1\n",
       "8837        1\n",
       "Name: comms_num, Length: 1654, dtype: int64"
      ]
     },
     "execution_count": 106,
     "metadata": {},
     "output_type": "execute_result"
    }
   ],
   "source": [
    "negative_data.comms_num.value_counts()"
   ]
  },
  {
   "cell_type": "code",
   "execution_count": 107,
   "metadata": {},
   "outputs": [
    {
     "data": {
      "text/plain": [
       "top_subreddit              2242\n",
       "hot_subreddit              1915\n",
       "controversial_subreddit    1909\n",
       "new_subreddit               580\n",
       "Name: category, dtype: int64"
      ]
     },
     "execution_count": 107,
     "metadata": {},
     "output_type": "execute_result"
    }
   ],
   "source": [
    "# Notice that there are no non-duplicates from the 'gilded' posts.\n",
    "negative_data.category.value_counts()"
   ]
  },
  {
   "cell_type": "code",
   "execution_count": 108,
   "metadata": {},
   "outputs": [
    {
     "data": {
      "text/plain": [
       "6646"
      ]
     },
     "execution_count": 108,
     "metadata": {},
     "output_type": "execute_result"
    }
   ],
   "source": [
    "negative_data.id.value_counts().sum()"
   ]
  },
  {
   "cell_type": "code",
   "execution_count": 109,
   "metadata": {},
   "outputs": [
    {
     "data": {
      "text/plain": [
       "(13212, 10)"
      ]
     },
     "execution_count": 109,
     "metadata": {},
     "output_type": "execute_result"
    }
   ],
   "source": [
    "pd.concat([positive_data, negative_data], axis=0).shape"
   ]
  },
  {
   "cell_type": "code",
   "execution_count": 110,
   "metadata": {},
   "outputs": [],
   "source": [
    "df = pd.concat([positive_data, negative_data], axis=0)"
   ]
  },
  {
   "cell_type": "code",
   "execution_count": 111,
   "metadata": {},
   "outputs": [
    {
     "data": {
      "text/plain": [
       "title                object\n",
       "score                 int64\n",
       "id                   object\n",
       "url                  object\n",
       "comms_num             int64\n",
       "created             float64\n",
       "body                 object\n",
       "category             object\n",
       "class                 int64\n",
       "timestamp    datetime64[ns]\n",
       "dtype: object"
      ]
     },
     "execution_count": 111,
     "metadata": {},
     "output_type": "execute_result"
    }
   ],
   "source": [
    "df.dtypes"
   ]
  },
  {
   "cell_type": "code",
   "execution_count": 112,
   "metadata": {},
   "outputs": [
    {
     "data": {
      "text/plain": [
       "0"
      ]
     },
     "execution_count": 112,
     "metadata": {},
     "output_type": "execute_result"
    }
   ],
   "source": [
    "# every post has a title\n",
    "df['title'].isnull().sum()"
   ]
  },
  {
   "cell_type": "code",
   "execution_count": 113,
   "metadata": {},
   "outputs": [
    {
     "data": {
      "text/plain": [
       "11960"
      ]
     },
     "execution_count": 113,
     "metadata": {},
     "output_type": "execute_result"
    }
   ],
   "source": [
    "(df['body'] == '').sum()"
   ]
  },
  {
   "cell_type": "code",
   "execution_count": 114,
   "metadata": {
    "scrolled": true
   },
   "outputs": [
    {
     "data": {
      "text/plain": [
       "13212"
      ]
     },
     "execution_count": 114,
     "metadata": {},
     "output_type": "execute_result"
    }
   ],
   "source": [
    "df.shape[0]"
   ]
  },
  {
   "cell_type": "code",
   "execution_count": 115,
   "metadata": {},
   "outputs": [
    {
     "name": "stdout",
     "output_type": "stream",
     "text": [
      "9.48%\n"
     ]
    }
   ],
   "source": [
    "# The amount of our data that has text in the main body of the post.\n",
    "\n",
    "print(str(round(100*(df[\"body\"] != \"\").sum() / df.shape[0], 2)) + \"%\" )"
   ]
  },
  {
   "cell_type": "markdown",
   "metadata": {},
   "source": [
    "<font color = blue size = 4.5>\n",
    "    Because more than 90% of all of our posts have only a photo in the main body, and the poster is using the 'title' line to include any dialogue surrounding the photo, we will train and do model construction on the title of our posts in the positive class.\n",
    "</font>"
   ]
  },
  {
   "cell_type": "markdown",
   "metadata": {},
   "source": [
    "<font color = blue size = 5.5>\n",
    "    We will attempt to train on the given data to this point.  In what follows are model constructions using Naive Bayes, Random forest classifications, and logistic regression.\n",
    "</font>"
   ]
  },
  {
   "cell_type": "code",
   "execution_count": null,
   "metadata": {},
   "outputs": [],
   "source": []
  },
  {
   "cell_type": "markdown",
   "metadata": {},
   "source": [
    "<font color = blue size = 5.5>Modeling with the data.</font>"
   ]
  },
  {
   "cell_type": "code",
   "execution_count": 117,
   "metadata": {},
   "outputs": [
    {
     "data": {
      "text/html": [
       "<div>\n",
       "<style scoped>\n",
       "    .dataframe tbody tr th:only-of-type {\n",
       "        vertical-align: middle;\n",
       "    }\n",
       "\n",
       "    .dataframe tbody tr th {\n",
       "        vertical-align: top;\n",
       "    }\n",
       "\n",
       "    .dataframe thead th {\n",
       "        text-align: right;\n",
       "    }\n",
       "</style>\n",
       "<table border=\"1\" class=\"dataframe\">\n",
       "  <thead>\n",
       "    <tr style=\"text-align: right;\">\n",
       "      <th></th>\n",
       "      <th>title</th>\n",
       "      <th>score</th>\n",
       "      <th>id</th>\n",
       "      <th>url</th>\n",
       "      <th>comms_num</th>\n",
       "      <th>created</th>\n",
       "      <th>body</th>\n",
       "      <th>category</th>\n",
       "      <th>class</th>\n",
       "      <th>timestamp</th>\n",
       "    </tr>\n",
       "  </thead>\n",
       "  <tbody>\n",
       "    <tr>\n",
       "      <th>0</th>\n",
       "      <td>6 Months, 150,000 Pieces, 200 LEDs Later... My...</td>\n",
       "      <td>1269</td>\n",
       "      <td>b31lgu</td>\n",
       "      <td>https://i.redd.it/18yfvmxul4n21.jpg</td>\n",
       "      <td>46</td>\n",
       "      <td>1.553023e+09</td>\n",
       "      <td>NaN</td>\n",
       "      <td>top_subreddit</td>\n",
       "      <td>1</td>\n",
       "      <td>2019-03-19 14:20:28</td>\n",
       "    </tr>\n",
       "    <tr>\n",
       "      <th>1</th>\n",
       "      <td>Sorry if it’s been done before but i thought i...</td>\n",
       "      <td>796</td>\n",
       "      <td>aqb5c7</td>\n",
       "      <td>https://i.redd.it/6fqwr1q4ceg21.jpg</td>\n",
       "      <td>40</td>\n",
       "      <td>1.550090e+09</td>\n",
       "      <td>NaN</td>\n",
       "      <td>top_subreddit</td>\n",
       "      <td>1</td>\n",
       "      <td>2019-02-13 14:34:38</td>\n",
       "    </tr>\n",
       "    <tr>\n",
       "      <th>2</th>\n",
       "      <td>Star Wars Battlefront 2 Vardos Tower WIP. Me f...</td>\n",
       "      <td>768</td>\n",
       "      <td>axcpto</td>\n",
       "      <td>https://i.redd.it/ryvf1n4786k21.jpg</td>\n",
       "      <td>44</td>\n",
       "      <td>1.551735e+09</td>\n",
       "      <td>NaN</td>\n",
       "      <td>top_subreddit</td>\n",
       "      <td>1</td>\n",
       "      <td>2019-03-04 15:34:59</td>\n",
       "    </tr>\n",
       "    <tr>\n",
       "      <th>3</th>\n",
       "      <td>Current version of all my Box MOCs!</td>\n",
       "      <td>770</td>\n",
       "      <td>asz3n8</td>\n",
       "      <td>https://i.redd.it/lyhhr4x2uuh21.jpg</td>\n",
       "      <td>47</td>\n",
       "      <td>1.550726e+09</td>\n",
       "      <td>NaN</td>\n",
       "      <td>top_subreddit</td>\n",
       "      <td>1</td>\n",
       "      <td>2019-02-20 23:07:54</td>\n",
       "    </tr>\n",
       "    <tr>\n",
       "      <th>4</th>\n",
       "      <td>I hope you guys can appreciate my venator MOC</td>\n",
       "      <td>718</td>\n",
       "      <td>az818i</td>\n",
       "      <td>https://i.redd.it/46z1vsuiq5l21.jpg</td>\n",
       "      <td>27</td>\n",
       "      <td>1.552165e+09</td>\n",
       "      <td>NaN</td>\n",
       "      <td>top_subreddit</td>\n",
       "      <td>1</td>\n",
       "      <td>2019-03-09 14:59:58</td>\n",
       "    </tr>\n",
       "  </tbody>\n",
       "</table>\n",
       "</div>"
      ],
      "text/plain": [
       "                                               title  score      id  \\\n",
       "0  6 Months, 150,000 Pieces, 200 LEDs Later... My...   1269  b31lgu   \n",
       "1  Sorry if it’s been done before but i thought i...    796  aqb5c7   \n",
       "2  Star Wars Battlefront 2 Vardos Tower WIP. Me f...    768  axcpto   \n",
       "3                Current version of all my Box MOCs!    770  asz3n8   \n",
       "4      I hope you guys can appreciate my venator MOC    718  az818i   \n",
       "\n",
       "                                   url  comms_num       created body  \\\n",
       "0  https://i.redd.it/18yfvmxul4n21.jpg         46  1.553023e+09  NaN   \n",
       "1  https://i.redd.it/6fqwr1q4ceg21.jpg         40  1.550090e+09  NaN   \n",
       "2  https://i.redd.it/ryvf1n4786k21.jpg         44  1.551735e+09  NaN   \n",
       "3  https://i.redd.it/lyhhr4x2uuh21.jpg         47  1.550726e+09  NaN   \n",
       "4  https://i.redd.it/46z1vsuiq5l21.jpg         27  1.552165e+09  NaN   \n",
       "\n",
       "        category  class            timestamp  \n",
       "0  top_subreddit      1  2019-03-19 14:20:28  \n",
       "1  top_subreddit      1  2019-02-13 14:34:38  \n",
       "2  top_subreddit      1  2019-03-04 15:34:59  \n",
       "3  top_subreddit      1  2019-02-20 23:07:54  \n",
       "4  top_subreddit      1  2019-03-09 14:59:58  "
      ]
     },
     "execution_count": 117,
     "metadata": {},
     "output_type": "execute_result"
    }
   ],
   "source": [
    "positive_df = pd.read_csv('data_pos_class.csv')\n",
    "positive_df.head()"
   ]
  },
  {
   "cell_type": "code",
   "execution_count": 118,
   "metadata": {},
   "outputs": [
    {
     "data": {
      "text/html": [
       "<div>\n",
       "<style scoped>\n",
       "    .dataframe tbody tr th:only-of-type {\n",
       "        vertical-align: middle;\n",
       "    }\n",
       "\n",
       "    .dataframe tbody tr th {\n",
       "        vertical-align: top;\n",
       "    }\n",
       "\n",
       "    .dataframe thead th {\n",
       "        text-align: right;\n",
       "    }\n",
       "</style>\n",
       "<table border=\"1\" class=\"dataframe\">\n",
       "  <thead>\n",
       "    <tr style=\"text-align: right;\">\n",
       "      <th></th>\n",
       "      <th>title</th>\n",
       "      <th>score</th>\n",
       "      <th>id</th>\n",
       "      <th>url</th>\n",
       "      <th>comms_num</th>\n",
       "      <th>created</th>\n",
       "      <th>body</th>\n",
       "      <th>category</th>\n",
       "      <th>class</th>\n",
       "      <th>timestamp</th>\n",
       "    </tr>\n",
       "  </thead>\n",
       "  <tbody>\n",
       "    <tr>\n",
       "      <th>0</th>\n",
       "      <td>Guardians of the Front Page</td>\n",
       "      <td>283478</td>\n",
       "      <td>5gn8ru</td>\n",
       "      <td>http://i.imgur.com/OOFRJvr.gifv</td>\n",
       "      <td>5024</td>\n",
       "      <td>1.480960e+09</td>\n",
       "      <td>NaN</td>\n",
       "      <td>top_subreddit</td>\n",
       "      <td>0</td>\n",
       "      <td>2016-12-05 11:41:14</td>\n",
       "    </tr>\n",
       "    <tr>\n",
       "      <th>1</th>\n",
       "      <td>Thanks, Obama.</td>\n",
       "      <td>230829</td>\n",
       "      <td>5bx4bx</td>\n",
       "      <td>https://i.reddituploads.com/58986555f545487c9d...</td>\n",
       "      <td>6116</td>\n",
       "      <td>1.478651e+09</td>\n",
       "      <td>NaN</td>\n",
       "      <td>top_subreddit</td>\n",
       "      <td>0</td>\n",
       "      <td>2016-11-08 18:27:25</td>\n",
       "    </tr>\n",
       "    <tr>\n",
       "      <th>2</th>\n",
       "      <td>I am Barack Obama, President of the United Sta...</td>\n",
       "      <td>216148</td>\n",
       "      <td>z1c9z</td>\n",
       "      <td>https://www.reddit.com/r/IAmA/comments/z1c9z/i...</td>\n",
       "      <td>23252</td>\n",
       "      <td>1.346270e+09</td>\n",
       "      <td>Hi, I’m Barack Obama, President of the United ...</td>\n",
       "      <td>top_subreddit</td>\n",
       "      <td>0</td>\n",
       "      <td>2012-08-29 15:01:36</td>\n",
       "    </tr>\n",
       "    <tr>\n",
       "      <th>3</th>\n",
       "      <td>This is Shelia Fredrick, a flight attendant. S...</td>\n",
       "      <td>222813</td>\n",
       "      <td>5sfexx</td>\n",
       "      <td>https://i.reddituploads.com/d1e77b5c62694624ba...</td>\n",
       "      <td>4370</td>\n",
       "      <td>1.486401e+09</td>\n",
       "      <td>NaN</td>\n",
       "      <td>top_subreddit</td>\n",
       "      <td>0</td>\n",
       "      <td>2017-02-06 11:06:40</td>\n",
       "    </tr>\n",
       "    <tr>\n",
       "      <th>4</th>\n",
       "      <td>1 dad reflex 2 children</td>\n",
       "      <td>204183</td>\n",
       "      <td>5jrlw1</td>\n",
       "      <td>http://i.imgur.com/Rum0zSz.gifv</td>\n",
       "      <td>5672</td>\n",
       "      <td>1.482426e+09</td>\n",
       "      <td>NaN</td>\n",
       "      <td>top_subreddit</td>\n",
       "      <td>0</td>\n",
       "      <td>2016-12-22 10:57:35</td>\n",
       "    </tr>\n",
       "  </tbody>\n",
       "</table>\n",
       "</div>"
      ],
      "text/plain": [
       "                                               title   score      id  \\\n",
       "0                        Guardians of the Front Page  283478  5gn8ru   \n",
       "1                                     Thanks, Obama.  230829  5bx4bx   \n",
       "2  I am Barack Obama, President of the United Sta...  216148   z1c9z   \n",
       "3  This is Shelia Fredrick, a flight attendant. S...  222813  5sfexx   \n",
       "4                            1 dad reflex 2 children  204183  5jrlw1   \n",
       "\n",
       "                                                 url  comms_num       created  \\\n",
       "0                    http://i.imgur.com/OOFRJvr.gifv       5024  1.480960e+09   \n",
       "1  https://i.reddituploads.com/58986555f545487c9d...       6116  1.478651e+09   \n",
       "2  https://www.reddit.com/r/IAmA/comments/z1c9z/i...      23252  1.346270e+09   \n",
       "3  https://i.reddituploads.com/d1e77b5c62694624ba...       4370  1.486401e+09   \n",
       "4                    http://i.imgur.com/Rum0zSz.gifv       5672  1.482426e+09   \n",
       "\n",
       "                                                body       category  class  \\\n",
       "0                                                NaN  top_subreddit      0   \n",
       "1                                                NaN  top_subreddit      0   \n",
       "2  Hi, I’m Barack Obama, President of the United ...  top_subreddit      0   \n",
       "3                                                NaN  top_subreddit      0   \n",
       "4                                                NaN  top_subreddit      0   \n",
       "\n",
       "             timestamp  \n",
       "0  2016-12-05 11:41:14  \n",
       "1  2016-11-08 18:27:25  \n",
       "2  2012-08-29 15:01:36  \n",
       "3  2017-02-06 11:06:40  \n",
       "4  2016-12-22 10:57:35  "
      ]
     },
     "execution_count": 118,
     "metadata": {},
     "output_type": "execute_result"
    }
   ],
   "source": [
    "negative_df = pd.read_csv('data_neg_class.csv')\n",
    "negative_df['class'] = negative_df['class'].map(lambda x:0)\n",
    "negative_df.head()"
   ]
  },
  {
   "cell_type": "code",
   "execution_count": 119,
   "metadata": {},
   "outputs": [],
   "source": [
    "df = pd.concat([positive_df, negative_df], axis=0)"
   ]
  },
  {
   "cell_type": "code",
   "execution_count": 120,
   "metadata": {},
   "outputs": [
    {
     "data": {
      "text/plain": [
       "(13212, 10)"
      ]
     },
     "execution_count": 120,
     "metadata": {},
     "output_type": "execute_result"
    }
   ],
   "source": [
    "df.shape"
   ]
  },
  {
   "cell_type": "code",
   "execution_count": 121,
   "metadata": {},
   "outputs": [],
   "source": [
    "X = df['title']\n",
    "y = df['class']"
   ]
  },
  {
   "cell_type": "code",
   "execution_count": 122,
   "metadata": {},
   "outputs": [
    {
     "data": {
      "text/plain": [
       "0    6 Months, 150,000 Pieces, 200 LEDs Later... My...\n",
       "1    Sorry if it’s been done before but i thought i...\n",
       "2    Star Wars Battlefront 2 Vardos Tower WIP. Me f...\n",
       "3                  Current version of all my Box MOCs!\n",
       "4        I hope you guys can appreciate my venator MOC\n",
       "Name: title, dtype: object"
      ]
     },
     "execution_count": 122,
     "metadata": {},
     "output_type": "execute_result"
    }
   ],
   "source": [
    "X.head()"
   ]
  },
  {
   "cell_type": "code",
   "execution_count": 123,
   "metadata": {},
   "outputs": [
    {
     "data": {
      "text/plain": [
       "0    6646\n",
       "1    6566\n",
       "Name: class, dtype: int64"
      ]
     },
     "execution_count": 123,
     "metadata": {},
     "output_type": "execute_result"
    }
   ],
   "source": [
    "# our classes are balanced\n",
    "y.value_counts()"
   ]
  },
  {
   "cell_type": "code",
   "execution_count": 124,
   "metadata": {},
   "outputs": [
    {
     "data": {
      "text/plain": [
       "0.5030275507114744"
      ]
     },
     "execution_count": 124,
     "metadata": {},
     "output_type": "execute_result"
    }
   ],
   "source": [
    "# the baseline accuracy we desire is \n",
    "max(y.value_counts(normalize=True))"
   ]
  },
  {
   "cell_type": "code",
   "execution_count": 125,
   "metadata": {},
   "outputs": [],
   "source": [
    "# train/test split (before doing any transformations or cleaning of the data)\n",
    "X_train, X_test, y_train, y_test = train_test_split(X, y,\n",
    "                                                    random_state=42,\n",
    "                                                    stratify=y)"
   ]
  },
  {
   "cell_type": "code",
   "execution_count": 126,
   "metadata": {},
   "outputs": [
    {
     "data": {
      "text/plain": [
       "(9909,)"
      ]
     },
     "execution_count": 126,
     "metadata": {},
     "output_type": "execute_result"
    }
   ],
   "source": [
    "X_train.shape"
   ]
  },
  {
   "cell_type": "code",
   "execution_count": 127,
   "metadata": {},
   "outputs": [],
   "source": [
    "# Let's instantiate a CountVectorizor, and build a model to see what we get.\n",
    "cvec = CountVectorizer(max_features=5000, ngram_range=(1,2), stop_words='english')\n",
    "\n",
    "# training dataframe\n",
    "df_train = pd.DataFrame(cvec.fit_transform(X_train).toarray(),\n",
    "                        columns=cvec.get_feature_names())\n",
    "\n",
    "# testing dataframe\n",
    "df_test = pd.DataFrame(cvec.transform(X_test).toarray(),\n",
    "                      columns=cvec.get_feature_names())"
   ]
  },
  {
   "cell_type": "code",
   "execution_count": 132,
   "metadata": {},
   "outputs": [],
   "source": [
    "rf = RandomForestClassifier()"
   ]
  },
  {
   "cell_type": "code",
   "execution_count": 133,
   "metadata": {},
   "outputs": [
    {
     "name": "stderr",
     "output_type": "stream",
     "text": [
      "/Users/blakewallace/anaconda3/lib/python3.6/site-packages/sklearn/ensemble/forest.py:246: FutureWarning: The default value of n_estimators will change from 10 in version 0.20 to 100 in 0.22.\n",
      "  \"10 in version 0.20 to 100 in 0.22.\", FutureWarning)\n"
     ]
    },
    {
     "data": {
      "text/plain": [
       "RandomForestClassifier(bootstrap=True, class_weight=None, criterion='gini',\n",
       "            max_depth=None, max_features='auto', max_leaf_nodes=None,\n",
       "            min_impurity_decrease=0.0, min_impurity_split=None,\n",
       "            min_samples_leaf=1, min_samples_split=2,\n",
       "            min_weight_fraction_leaf=0.0, n_estimators=10, n_jobs=None,\n",
       "            oob_score=False, random_state=None, verbose=0,\n",
       "            warm_start=False)"
      ]
     },
     "execution_count": 133,
     "metadata": {},
     "output_type": "execute_result"
    }
   ],
   "source": [
    "rf.fit(df_train, y_train)"
   ]
  },
  {
   "cell_type": "code",
   "execution_count": 138,
   "metadata": {},
   "outputs": [
    {
     "data": {
      "text/plain": [
       "0.9695226561711575"
      ]
     },
     "execution_count": 138,
     "metadata": {},
     "output_type": "execute_result"
    }
   ],
   "source": [
    "rf.score(df_train, y_train)"
   ]
  },
  {
   "cell_type": "code",
   "execution_count": 134,
   "metadata": {},
   "outputs": [
    {
     "data": {
      "text/plain": [
       "0.7956403269754768"
      ]
     },
     "execution_count": 134,
     "metadata": {},
     "output_type": "execute_result"
    }
   ],
   "source": [
    "rf.score(df_test, y_test)"
   ]
  },
  {
   "cell_type": "markdown",
   "metadata": {},
   "source": [
    "<font color = blue>This preliminary model has extremely high variance.</font>"
   ]
  },
  {
   "cell_type": "code",
   "execution_count": 135,
   "metadata": {},
   "outputs": [],
   "source": [
    "# generating an initial prediction\n",
    "preds = rf.predict(df_test)"
   ]
  },
  {
   "cell_type": "code",
   "execution_count": 136,
   "metadata": {},
   "outputs": [],
   "source": [
    "# This function was written by Heather Robins.  IN most cases we would attempt to produce our own, but it is \n",
    "# beautiful.  So, for this project we chose to use it verbatim, and pass along the credit where it is due.  (Thank you!)\n",
    "def metrics(y_test, y_predict):\n",
    "    print('Accuracy score %s ' % accuracy_score(y_test, y_predict), '\\n')\n",
    "    print('----------------------------------------------------------------')\n",
    "    print(pd.DataFrame(confusion_matrix(y_test, y_predict), \n",
    "                            index=['Actually_Negative', 'Actually_Positive'], \n",
    "                            columns=['Predicted_Negative', 'Predicted_Positive']), '\\n')\n",
    "    print('-----------------------------------------------------------------')\n",
    "    print(classification_report(y_test, y_predict))\n",
    "    print('-----------------------------------------------------------------')"
   ]
  },
  {
   "cell_type": "code",
   "execution_count": 137,
   "metadata": {},
   "outputs": [
    {
     "name": "stdout",
     "output_type": "stream",
     "text": [
      "Accuracy score 0.7956403269754768  \n",
      "\n",
      "----------------------------------------------------------------\n",
      "                   Predicted_Negative  Predicted_Positive\n",
      "Actually_Negative                1357                 305\n",
      "Actually_Positive                 370                1271 \n",
      "\n",
      "-----------------------------------------------------------------\n",
      "              precision    recall  f1-score   support\n",
      "\n",
      "           0       0.79      0.82      0.80      1662\n",
      "           1       0.81      0.77      0.79      1641\n",
      "\n",
      "   micro avg       0.80      0.80      0.80      3303\n",
      "   macro avg       0.80      0.80      0.80      3303\n",
      "weighted avg       0.80      0.80      0.80      3303\n",
      "\n",
      "-----------------------------------------------------------------\n"
     ]
    }
   ],
   "source": [
    "metrics(y_test, preds)"
   ]
  },
  {
   "cell_type": "code",
   "execution_count": 139,
   "metadata": {},
   "outputs": [
    {
     "name": "stderr",
     "output_type": "stream",
     "text": [
      "/Users/blakewallace/anaconda3/lib/python3.6/site-packages/sklearn/model_selection/_split.py:2053: FutureWarning: You should specify a value for 'cv' instead of relying on the default value. The default value will change from 3 to 5 in version 0.22.\n",
      "  warnings.warn(CV_WARNING, FutureWarning)\n",
      "[Parallel(n_jobs=1)]: Using backend SequentialBackend with 1 concurrent workers.\n"
     ]
    },
    {
     "name": "stdout",
     "output_type": "stream",
     "text": [
      "Fitting 3 folds for each of 25 candidates, totalling 75 fits\n"
     ]
    },
    {
     "name": "stderr",
     "output_type": "stream",
     "text": [
      "[Parallel(n_jobs=1)]: Done  75 out of  75 | elapsed:  3.5min finished\n"
     ]
    },
    {
     "name": "stdout",
     "output_type": "stream",
     "text": [
      "0.8093652235341608\n",
      "{'max_depth': None, 'max_features': 2, 'n_estimators': 50}\n",
      "time: 230.042 seconds\n",
      "time: 3 minutes, 50.042 seconds\n"
     ]
    }
   ],
   "source": [
    "# Now, we gridsearch over a Random Forest to see if we can reduce the variance and produce a better fitting model.\n",
    "start_time = time.time()\n",
    "\n",
    "rf_params = {\n",
    "    'n_estimators': [10, 20, 30, 50, 100],\n",
    "    'max_depth': [None, 2, 3, 5, 10],\n",
    "    'max_features': [2]#'auto', 2, 3, 4, 5, 6]\n",
    "}\n",
    "\n",
    "rf = RandomForestClassifier()\n",
    "gs_rf = GridSearchCV(\n",
    "    rf, \n",
    "    param_grid=rf_params, \n",
    "    #scoring = scorer, \n",
    "    verbose = 1\n",
    ")\n",
    "gs_rf.fit(df_train, y_train)\n",
    "print(gs_rf.best_score_)\n",
    "print(gs_rf.best_params_)\n",
    "\n",
    "\n",
    "end_time = round(time.time() - start_time, 3)\n",
    "print(f'time: {end_time} seconds')\n",
    "end_time_minutes = int(end_time/ 60)\n",
    "end_time_seconds = round(end_time % 60, 3)\n",
    "\n",
    "print(f'time: {end_time_minutes} minutes, {end_time_seconds} seconds')"
   ]
  },
  {
   "cell_type": "code",
   "execution_count": 140,
   "metadata": {},
   "outputs": [
    {
     "name": "stdout",
     "output_type": "stream",
     "text": [
      "Training score: 0.9799172469472197\n",
      "Testing score: 0.8119891008174387\n",
      "\n",
      "Generating predictions\n",
      "Accuracy score 0.8119891008174387  \n",
      "\n",
      "----------------------------------------------------------------\n",
      "                   Predicted_Negative  Predicted_Positive\n",
      "Actually_Negative                1462                 200\n",
      "Actually_Positive                 421                1220 \n",
      "\n",
      "-----------------------------------------------------------------\n",
      "              precision    recall  f1-score   support\n",
      "\n",
      "           0       0.78      0.88      0.82      1662\n",
      "           1       0.86      0.74      0.80      1641\n",
      "\n",
      "   micro avg       0.81      0.81      0.81      3303\n",
      "   macro avg       0.82      0.81      0.81      3303\n",
      "weighted avg       0.82      0.81      0.81      3303\n",
      "\n",
      "-----------------------------------------------------------------\n"
     ]
    }
   ],
   "source": [
    "print(f'Training score: {gs_rf.score(df_train, y_train)}')\n",
    "print(f'Testing score: {gs_rf.score(df_test, y_test)}')\n",
    "print()\n",
    "print('Generating predictions')\n",
    "\n",
    "preds = gs_rf.predict(df_test)\n",
    "\n",
    "metrics(y_test, preds)"
   ]
  },
  {
   "cell_type": "markdown",
   "metadata": {},
   "source": [
    "<font color = blue size = 4.5>This is still a fairly high variance model.  Next, we fit the random forest to a bagging ensemble to attempt to reduce the observed variance.</font>"
   ]
  },
  {
   "cell_type": "code",
   "execution_count": 141,
   "metadata": {},
   "outputs": [
    {
     "name": "stderr",
     "output_type": "stream",
     "text": [
      "/Users/blakewallace/anaconda3/lib/python3.6/site-packages/sklearn/model_selection/_split.py:2053: FutureWarning: You should specify a value for 'cv' instead of relying on the default value. The default value will change from 3 to 5 in version 0.22.\n",
      "  warnings.warn(CV_WARNING, FutureWarning)\n",
      "[Parallel(n_jobs=1)]: Using backend SequentialBackend with 1 concurrent workers.\n"
     ]
    },
    {
     "name": "stdout",
     "output_type": "stream",
     "text": [
      "Fitting 3 folds for each of 2 candidates, totalling 6 fits\n"
     ]
    },
    {
     "name": "stderr",
     "output_type": "stream",
     "text": [
      "[Parallel(n_jobs=1)]: Done   6 out of   6 | elapsed:  9.7min finished\n"
     ]
    },
    {
     "name": "stdout",
     "output_type": "stream",
     "text": [
      "0.9647794933898476\n",
      "0.8307599152285801\n",
      "time: 856.912 seconds\n",
      "time: 14 minutes, 16.912 seconds\n"
     ]
    }
   ],
   "source": [
    "start_time = time.time()\n",
    "\n",
    "# We are using a bagging algorithm because our model is high variance.\n",
    "\n",
    "bag_params = {\n",
    "    'base_estimator__n_estimators': [100],\n",
    "    'base_estimator__max_depth': [2, None],\n",
    "    'base_estimator__max_features': [2]\n",
    "#     'base_estimator': [None, RandomForestClassifier(n_estimators=100, max_depth=None, max_features=2)]\n",
    "}\n",
    "\n",
    "bag = BaggingClassifier(RandomForestClassifier(max_features=2, n_estimators=50))\n",
    "\n",
    "gs_bag = GridSearchCV(bag,\n",
    "                      param_grid=bag_params,\n",
    "                      verbose = 1)\n",
    "\n",
    "gs_bag.fit(df_train, y_train)\n",
    "print(gs_bag.score(df_train, y_train))\n",
    "print(gs_bag.score(df_test, y_test))\n",
    "\n",
    "end_time = round(time.time() - start_time, 3)\n",
    "print(f'time: {end_time} seconds')\n",
    "end_time_minutes = int(end_time/ 60)\n",
    "end_time_seconds = round(end_time % 60, 3)\n",
    "\n",
    "print(f'time: {end_time_minutes} minutes, {end_time_seconds} seconds')\n"
   ]
  },
  {
   "cell_type": "code",
   "execution_count": 142,
   "metadata": {},
   "outputs": [
    {
     "name": "stdout",
     "output_type": "stream",
     "text": [
      "Training score: 0.9647794933898476\n",
      "Testing score: 0.8307599152285801\n",
      "\n",
      "Generating predictions\n",
      "Accuracy score 0.8307599152285801  \n",
      "\n",
      "----------------------------------------------------------------\n",
      "                   Predicted_Negative  Predicted_Positive\n",
      "Actually_Negative                1519                 143\n",
      "Actually_Positive                 416                1225 \n",
      "\n",
      "-----------------------------------------------------------------\n",
      "              precision    recall  f1-score   support\n",
      "\n",
      "           0       0.79      0.91      0.84      1662\n",
      "           1       0.90      0.75      0.81      1641\n",
      "\n",
      "   micro avg       0.83      0.83      0.83      3303\n",
      "   macro avg       0.84      0.83      0.83      3303\n",
      "weighted avg       0.84      0.83      0.83      3303\n",
      "\n",
      "-----------------------------------------------------------------\n"
     ]
    }
   ],
   "source": [
    "print(f'Training score: {gs_bag.score(df_train, y_train)}')\n",
    "print(f'Testing score: {gs_bag.score(df_test, y_test)}')\n",
    "print()\n",
    "print('Generating predictions')\n",
    "\n",
    "preds = gs_bag.predict(df_test)\n",
    "\n",
    "metrics(y_test, preds)"
   ]
  },
  {
   "cell_type": "code",
   "execution_count": 144,
   "metadata": {},
   "outputs": [
    {
     "name": "stdout",
     "output_type": "stream",
     "text": [
      "True Negatives: 1519\n",
      "False Positives: 143\n",
      "False Negatives: 416\n",
      "True Positives: 1225\n"
     ]
    }
   ],
   "source": [
    "tn, fp, fn, tp = confusion_matrix(y_test, preds).ravel()\n",
    "print(\"True Negatives: %s\" % tn)\n",
    "print(\"False Positives: %s\" % fp)\n",
    "print(\"False Negatives: %s\" % fn)\n",
    "print(\"True Positives: %s\" % tp)"
   ]
  },
  {
   "cell_type": "markdown",
   "metadata": {},
   "source": [
    "<font color = blue size = 4.5>We were able to eliminate a small amount of the variance, but not much.  Next, we alter our train/test split to increase the amount of data we are training on, and we also reduce the amount of max_teatures in the count vectorizer.</font>"
   ]
  },
  {
   "cell_type": "code",
   "execution_count": 147,
   "metadata": {},
   "outputs": [],
   "source": [
    "# This train test split uses a much smaller testing set.\n",
    "# train/test split (before doing any transformations or cleaning of the data)\n",
    "X_train, X_test, y_train, y_test = train_test_split(X, y,\n",
    "                                                    random_state = 42,\n",
    "                                                    stratify = y,\n",
    "                                                    test_size = 0.20)"
   ]
  },
  {
   "cell_type": "code",
   "execution_count": 148,
   "metadata": {
    "scrolled": true
   },
   "outputs": [
    {
     "data": {
      "text/plain": [
       "(10569,)"
      ]
     },
     "execution_count": 148,
     "metadata": {},
     "output_type": "execute_result"
    }
   ],
   "source": [
    "X_train.shape"
   ]
  },
  {
   "cell_type": "code",
   "execution_count": 152,
   "metadata": {},
   "outputs": [],
   "source": [
    "# ngrams = 1 or 2\n",
    "# We use less max features, to see if we cannot reduce some of the variance\n",
    "# Let's instantiate a CountVectorizor, and build a model to see what we get.\n",
    "cvec = CountVectorizer(max_features=4000, ngram_range=(1,2), stop_words='english')\n",
    "\n",
    "# training dataframe\n",
    "df_train = pd.DataFrame(cvec.fit_transform(X_train).toarray(),\n",
    "                        columns=cvec.get_feature_names())\n",
    "\n",
    "# testing dataframe\n",
    "df_test = pd.DataFrame(cvec.transform(X_test).toarray(),\n",
    "                      columns=cvec.get_feature_names())"
   ]
  },
  {
   "cell_type": "code",
   "execution_count": 153,
   "metadata": {},
   "outputs": [
    {
     "name": "stdout",
     "output_type": "stream",
     "text": [
      "Outline the bagging parameters.\n",
      "Instantiate a baggin model\n",
      "Instantiate a grid search over the bag\n",
      "Fit the grid search to the training data\n",
      "\n",
      "Fitting 3 folds for each of 2 candidates, totalling 6 fits\n"
     ]
    },
    {
     "name": "stderr",
     "output_type": "stream",
     "text": [
      "/Users/blakewallace/anaconda3/lib/python3.6/site-packages/sklearn/model_selection/_split.py:2053: FutureWarning: You should specify a value for 'cv' instead of relying on the default value. The default value will change from 3 to 5 in version 0.22.\n",
      "  warnings.warn(CV_WARNING, FutureWarning)\n",
      "[Parallel(n_jobs=1)]: Using backend SequentialBackend with 1 concurrent workers.\n",
      "[Parallel(n_jobs=1)]: Done   6 out of   6 | elapsed:  8.7min finished\n"
     ]
    },
    {
     "name": "stdout",
     "output_type": "stream",
     "text": [
      "The training score: 0.9613019207115148\n",
      "The testing score: 0.8267120696178585\n",
      "\n",
      "Generating predictions\n",
      "time: 814.881 seconds\n",
      "time: 13 minutes, 34.881 seconds\n",
      "\n",
      "Accuracy score 0.8267120696178585  \n",
      "\n",
      "----------------------------------------------------------------\n",
      "                   Predicted_Negative  Predicted_Positive\n",
      "Actually_Negative                1203                 127\n",
      "Actually_Positive                 331                 982 \n",
      "\n",
      "-----------------------------------------------------------------\n",
      "              precision    recall  f1-score   support\n",
      "\n",
      "           0       0.78      0.90      0.84      1330\n",
      "           1       0.89      0.75      0.81      1313\n",
      "\n",
      "   micro avg       0.83      0.83      0.83      2643\n",
      "   macro avg       0.83      0.83      0.83      2643\n",
      "weighted avg       0.83      0.83      0.83      2643\n",
      "\n",
      "-----------------------------------------------------------------\n"
     ]
    }
   ],
   "source": [
    "start_time = time.time()\n",
    "\n",
    "# We are using a bagging algorithm because our model is high variance.\n",
    "\n",
    "print('Outline the bagging parameters.')\n",
    "bag_params = {\n",
    "    'base_estimator__n_estimators': [100],\n",
    "    'base_estimator__max_depth': [2, None],\n",
    "    'base_estimator__max_features': [2]\n",
    "#     'base_estimator': [None, RandomForestClassifier(n_estimators=100, max_depth=None, max_features=2)]\n",
    "}\n",
    "\n",
    "print(f'Instantiate a baggin model')\n",
    "bag = BaggingClassifier(RandomForestClassifier(max_features=2, n_estimators=50))\n",
    "\n",
    "print('Instantiate a grid search over the bag')\n",
    "gs_bag = GridSearchCV(bag,\n",
    "                      param_grid=bag_params,\n",
    "                      verbose = 1)\n",
    "\n",
    "print('Fit the grid search to the training data')\n",
    "print()\n",
    "gs_bag.fit(df_train, y_train)\n",
    "print(f'The training score: {gs_bag.score(df_train, y_train)}')\n",
    "print(f'The testing score: {gs_bag.score(df_test, y_test)}')\n",
    "print()\n",
    "\n",
    "print('Generating predictions')\n",
    "preds = gs_bag.predict(df_test)\n",
    "\n",
    "end_time = round(time.time() - start_time, 3)\n",
    "print(f'time: {end_time} seconds')\n",
    "end_time_minutes = int(end_time/ 60)\n",
    "end_time_seconds = round(end_time % 60, 3)\n",
    "\n",
    "print(f'time: {end_time_minutes} minutes, {end_time_seconds} seconds')\n",
    "print()\n",
    "metrics(y_test, preds)\n",
    "\n"
   ]
  },
  {
   "cell_type": "code",
   "execution_count": 155,
   "metadata": {},
   "outputs": [
    {
     "name": "stdout",
     "output_type": "stream",
     "text": [
      "True Negatives: 1203\n",
      "False Positives: 127\n",
      "False Negatives: 331\n",
      "True Positives: 982\n"
     ]
    }
   ],
   "source": [
    "tn, fp, fn, tp = confusion_matrix(y_test, preds).ravel()\n",
    "print(\"True Negatives: %s\" % tn)\n",
    "print(\"False Positives: %s\" % fp)\n",
    "print(\"False Negatives: %s\" % fn)\n",
    "print(\"True Positives: %s\" % tp)"
   ]
  },
  {
   "cell_type": "markdown",
   "metadata": {},
   "source": [
    "<font color = blue size = 4.5>We are having very low success in tuning the Random Forest model, and these bagging models take a long time.  So, we switch gears and take a look at a Multnomial Naive Bayes model.</font>"
   ]
  },
  {
   "cell_type": "code",
   "execution_count": 156,
   "metadata": {},
   "outputs": [],
   "source": [
    "nb = MultinomialNB() \n",
    "model = nb.fit(df_train, y_train)\n"
   ]
  },
  {
   "cell_type": "code",
   "execution_count": 157,
   "metadata": {},
   "outputs": [
    {
     "data": {
      "text/plain": [
       "0.882202668180528"
      ]
     },
     "execution_count": 157,
     "metadata": {},
     "output_type": "execute_result"
    }
   ],
   "source": [
    "nb.score(df_train, y_train)"
   ]
  },
  {
   "cell_type": "code",
   "execution_count": 162,
   "metadata": {},
   "outputs": [
    {
     "data": {
      "text/plain": [
       "0.8467650397275823"
      ]
     },
     "execution_count": 162,
     "metadata": {},
     "output_type": "execute_result"
    }
   ],
   "source": [
    "nb.score(df_test, y_test)"
   ]
  },
  {
   "cell_type": "code",
   "execution_count": 163,
   "metadata": {},
   "outputs": [],
   "source": [
    "predictions = nb.predict(df_test)"
   ]
  },
  {
   "cell_type": "code",
   "execution_count": 164,
   "metadata": {},
   "outputs": [
    {
     "name": "stdout",
     "output_type": "stream",
     "text": [
      "Accuracy score 0.8467650397275823  \n",
      "\n",
      "----------------------------------------------------------------\n",
      "                   Predicted_Negative  Predicted_Positive\n",
      "Actually_Negative                1189                 141\n",
      "Actually_Positive                 264                1049 \n",
      "\n",
      "-----------------------------------------------------------------\n",
      "              precision    recall  f1-score   support\n",
      "\n",
      "           0       0.82      0.89      0.85      1330\n",
      "           1       0.88      0.80      0.84      1313\n",
      "\n",
      "   micro avg       0.85      0.85      0.85      2643\n",
      "   macro avg       0.85      0.85      0.85      2643\n",
      "weighted avg       0.85      0.85      0.85      2643\n",
      "\n",
      "-----------------------------------------------------------------\n"
     ]
    }
   ],
   "source": [
    "metrics(y_test, predictions)"
   ]
  },
  {
   "cell_type": "code",
   "execution_count": 165,
   "metadata": {},
   "outputs": [
    {
     "name": "stdout",
     "output_type": "stream",
     "text": [
      "True Negatives: 1203\n",
      "False Positives: 127\n",
      "False Negatives: 331\n",
      "True Positives: 982\n"
     ]
    }
   ],
   "source": [
    "tn, fp, fn, tp = confusion_matrix(y_test, preds).ravel()\n",
    "print(\"True Negatives: %s\" % tn)\n",
    "print(\"False Positives: %s\" % fp)\n",
    "print(\"False Negatives: %s\" % fn)\n",
    "print(\"True Positives: %s\" % tp)"
   ]
  },
  {
   "cell_type": "markdown",
   "metadata": {},
   "source": [
    "<font color = blue size = 4.5>Well, we lost some training accuracy, but were able to significantly reduce the variance on new data, obtaining a better fit model.  Both models are scoring betweemn 0.84 and 0.89.  The next script produces the best fitting model we were able to construct.</font>"
   ]
  },
  {
   "cell_type": "code",
   "execution_count": 168,
   "metadata": {},
   "outputs": [],
   "source": [
    "# ngrams = 1, 2, or3\n",
    "# We use less max features, to see if we cannot reduce some of the variance\n",
    "# Let's instantiate a CountVectorizor, and build a model to see what we get.\n",
    "cvec = CountVectorizer(max_features=4000, ngram_range=(1,3), stop_words='english')\n",
    "\n",
    "# training dataframe\n",
    "df_train = pd.DataFrame(cvec.fit_transform(X_train).toarray(),\n",
    "                        columns=cvec.get_feature_names())\n",
    "\n",
    "# testing dataframe\n",
    "df_test = pd.DataFrame(cvec.transform(X_test).toarray(),\n",
    "                      columns=cvec.get_feature_names())"
   ]
  },
  {
   "cell_type": "code",
   "execution_count": 169,
   "metadata": {},
   "outputs": [],
   "source": [
    "nb = MultinomialNB() \n",
    "model = nb.fit(df_train, y_train)\n"
   ]
  },
  {
   "cell_type": "code",
   "execution_count": 170,
   "metadata": {},
   "outputs": [],
   "source": [
    "preds = nb.predict(df_test)"
   ]
  },
  {
   "cell_type": "code",
   "execution_count": 171,
   "metadata": {},
   "outputs": [
    {
     "data": {
      "text/plain": [
       "0.8802157252341755"
      ]
     },
     "execution_count": 171,
     "metadata": {},
     "output_type": "execute_result"
    }
   ],
   "source": [
    "nb.score(df_train, y_train)"
   ]
  },
  {
   "cell_type": "code",
   "execution_count": 172,
   "metadata": {},
   "outputs": [
    {
     "data": {
      "text/plain": [
       "0.8456299659477866"
      ]
     },
     "execution_count": 172,
     "metadata": {},
     "output_type": "execute_result"
    }
   ],
   "source": [
    "nb.score(df_test, y_test)"
   ]
  },
  {
   "cell_type": "markdown",
   "metadata": {},
   "source": [
    "<font color = blue size = 4.5>Next, we checked a few other random states in the train/test split and find the a better fitting modle is obtained when the random state is set to 26.</font>"
   ]
  },
  {
   "cell_type": "code",
   "execution_count": 174,
   "metadata": {},
   "outputs": [
    {
     "name": "stdout",
     "output_type": "stream",
     "text": [
      "Random_state: 25\n",
      "Training accuracy: 0.8766203046645851\n",
      "Testing accuracy: 0.8444948921679909\n",
      "absolute difference: 0.032125412496594175\n",
      "\n",
      "Random_state: 26\n",
      "Training accuracy: 0.8762418393414704\n",
      "Testing accuracy: 0.8490351872871736\n",
      "absolute difference: 0.02720665205429673\n",
      "\n",
      "Random_state: 27\n",
      "Training accuracy: 0.8815403538650771\n",
      "Testing accuracy: 0.8339008702232312\n",
      "absolute difference: 0.04763948364184589\n",
      "\n",
      "Random_state: 28\n",
      "Training accuracy: 0.8805941905572902\n",
      "Testing accuracy: 0.8463866818009838\n",
      "absolute difference: 0.034207508756306404\n",
      "\n",
      "Random_state: 29\n",
      "Training accuracy: 0.8810672722111836\n",
      "Testing accuracy: 0.8422247446083996\n",
      "absolute difference: 0.03884252760278406\n",
      "\n",
      "Random_state: 30\n",
      "Training accuracy: 0.8815403538650771\n",
      "Testing accuracy: 0.8350359440030268\n",
      "absolute difference: 0.04650440986205029\n",
      "\n",
      "Random_state: 31\n",
      "Training accuracy: 0.8820134355189706\n",
      "Testing accuracy: 0.8312523647370412\n",
      "absolute difference: 0.050761070781929374\n",
      "\n",
      "Random_state: 32\n",
      "Training accuracy: 0.8795534109187245\n",
      "Testing accuracy: 0.8444948921679909\n",
      "absolute difference: 0.035058518750733625\n",
      "\n",
      "Random_state: 33\n",
      "Training accuracy: 0.8777557006339294\n",
      "Testing accuracy: 0.841846386681801\n",
      "absolute difference: 0.035909313952128374\n",
      "\n",
      "Random_state: 34\n",
      "Training accuracy: 0.8804995742265115\n",
      "Testing accuracy: 0.8490351872871736\n",
      "absolute difference: 0.03146438693933784\n",
      "\n",
      "Random_state: 35\n",
      "Training accuracy: 0.8825811335036428\n",
      "Testing accuracy: 0.8327657964434355\n",
      "absolute difference: 0.04981533706020724\n",
      "\n",
      "Random_state: 36\n",
      "Training accuracy: 0.8771880026492572\n",
      "Testing accuracy: 0.8267120696178585\n",
      "absolute difference: 0.050475933031398745\n",
      "\n",
      "Random_state: 37\n",
      "Training accuracy: 0.8793641782571672\n",
      "Testing accuracy: 0.841846386681801\n",
      "absolute difference: 0.037517791575366166\n",
      "\n",
      "Random_state: 38\n",
      "Training accuracy: 0.8790803292648312\n",
      "Testing accuracy: 0.8388195232690124\n",
      "absolute difference: 0.040260805995818716\n",
      "\n",
      "Random_state: 39\n",
      "Training accuracy: 0.8801211089033967\n",
      "Testing accuracy: 0.845251608021188\n",
      "absolute difference: 0.03486950088220864\n",
      "\n",
      "Random_state: 40\n",
      "Training accuracy: 0.8780395496262655\n",
      "Testing accuracy: 0.8460083238743852\n",
      "absolute difference: 0.03203122575188033\n",
      "\n",
      "Random_state: 41\n",
      "Training accuracy: 0.8806888068880688\n",
      "Testing accuracy: 0.8346575860764283\n",
      "absolute difference: 0.04603122081164057\n",
      "\n",
      "Random_state: 42\n",
      "Training accuracy: 0.8802157252341755\n",
      "Testing accuracy: 0.8456299659477866\n",
      "absolute difference: 0.03458575928638885\n",
      "\n",
      "Random_state: 43\n",
      "Training accuracy: 0.8826757498344214\n",
      "Testing accuracy: 0.8380628074158154\n",
      "absolute difference: 0.04461294241860603\n",
      "\n",
      "Random_state: 44\n",
      "Training accuracy: 0.8791749455956098\n",
      "Testing accuracy: 0.8429814604615967\n",
      "absolute difference: 0.036193485134013104\n",
      "\n",
      "Random_state: 45\n",
      "Training accuracy: 0.8762418393414704\n",
      "Testing accuracy: 0.8426031025349981\n",
      "absolute difference: 0.033638736806472225\n",
      "\n",
      "Random_state: 46\n",
      "Training accuracy: 0.878796480272495\n",
      "Testing accuracy: 0.8463866818009838\n",
      "absolute difference: 0.032409798471511264\n",
      "\n",
      "Random_state: 47\n",
      "Training accuracy: 0.8807834232188476\n",
      "Testing accuracy: 0.8380628074158154\n",
      "absolute difference: 0.042720615803032214\n",
      "\n",
      "Random_state: 48\n",
      "Training accuracy: 0.8796480272495033\n",
      "Testing accuracy: 0.8403329549754067\n",
      "absolute difference: 0.039315072274096585\n",
      "\n",
      "Random_state: 49\n",
      "Training accuracy: 0.8789857129340524\n",
      "Testing accuracy: 0.8426031025349981\n",
      "absolute difference: 0.036382610399054216\n",
      "\n"
     ]
    }
   ],
   "source": [
    "# checking various random states (28 gives the closest scores between the training and testing sets)\n",
    "\n",
    "for i in range(25, 50):\n",
    "\n",
    "    X3_train, X3_test, y3_train, y3_test = train_test_split(X, y,\n",
    "                                                    random_state = i,\n",
    "                                                    stratify = y,\n",
    "                                                    test_size = 0.20)\n",
    "    cvec3 = CountVectorizer(max_features=4000, ngram_range=(1,3), stop_words='english')\n",
    "\n",
    "    # training dataframe\n",
    "    df3_train = pd.DataFrame(cvec3.fit_transform(X3_train).toarray(),\n",
    "                            columns=cvec3.get_feature_names())\n",
    "\n",
    "    # testing dataframe\n",
    "    df3_test = pd.DataFrame(cvec3.transform(X3_test).toarray(),\n",
    "                          columns=cvec3.get_feature_names())\n",
    "    \n",
    "    nb3 = MultinomialNB() \n",
    "    model3 = nb3.fit(df3_train, y3_train)\n",
    "    \n",
    "    print(f'Random_state: {i}')\n",
    "    print(f'Training accuracy: {nb3.score(df3_train, y3_train)}')\n",
    "    print(f'Testing accuracy: {nb3.score(df3_test, y3_test)}')\n",
    "    print(f'absolute difference: {abs(nb3.score(df3_train, y3_train) - nb3.score(df3_test, y3_test))}')\n",
    "    print()"
   ]
  },
  {
   "cell_type": "code",
   "execution_count": null,
   "metadata": {},
   "outputs": [],
   "source": []
  },
  {
   "cell_type": "code",
   "execution_count": 176,
   "metadata": {},
   "outputs": [
    {
     "name": "stdout",
     "output_type": "stream",
     "text": [
      "Outlining the bagging parameters.\n",
      "Instantiate a bagging model\n",
      "Instantiate a grid search\n",
      "\n",
      "Fitting the training data.\n",
      "Fitting 3 folds for each of 2 candidates, totalling 6 fits\n"
     ]
    },
    {
     "name": "stderr",
     "output_type": "stream",
     "text": [
      "[Parallel(n_jobs=1)]: Using backend SequentialBackend with 1 concurrent workers.\n",
      "[Parallel(n_jobs=1)]: Done   6 out of   6 | elapsed:  2.8min finished\n"
     ]
    },
    {
     "name": "stdout",
     "output_type": "stream",
     "text": [
      "The training score: 0.8751064433721261\n",
      "The testing score: 0.8475217555807795\n",
      "The best parameters from the grid search: {'base_estimator': MultinomialNB(alpha=1.0, class_prior=None, fit_prior=True)}\n",
      "The best score from the grid seacrh: 0.8358406660989687\n",
      "Generating predictions\n",
      "time: 199.233 seconds\n",
      "time: 3 minutes, 19.233 seconds\n",
      "Accuracy score 0.8475217555807795  \n",
      "\n",
      "----------------------------------------------------------------\n",
      "                   Predicted_Negative  Predicted_Positive\n",
      "Actually_Negative                1181                 149\n",
      "Actually_Positive                 254                1059 \n",
      "\n",
      "-----------------------------------------------------------------\n",
      "              precision    recall  f1-score   support\n",
      "\n",
      "           0       0.82      0.89      0.85      1330\n",
      "           1       0.88      0.81      0.84      1313\n",
      "\n",
      "   micro avg       0.85      0.85      0.85      2643\n",
      "   macro avg       0.85      0.85      0.85      2643\n",
      "weighted avg       0.85      0.85      0.85      2643\n",
      "\n",
      "-----------------------------------------------------------------\n"
     ]
    }
   ],
   "source": [
    "start_time = time.time()\n",
    "\n",
    "import warnings\n",
    "warnings.filterwarnings('ignore')\n",
    "\n",
    "# We are using a bagging algorithm because our model is high variance.\n",
    "\n",
    "X_train, X_test, y_train, y_test = train_test_split(X, y,\n",
    "                                                    random_state = 26,\n",
    "                                                    stratify = y,\n",
    "                                                    test_size = 0.20)\n",
    "\n",
    "# Let's instantiate a CountVectorizor, and build a model to see what we get.\n",
    "cvec = CountVectorizer(max_features=4000, ngram_range=(1,3), stop_words='english')\n",
    "\n",
    "# training dataframe\n",
    "df_train = pd.DataFrame(cvec.fit_transform(X_train).toarray(),\n",
    "                        columns=cvec.get_feature_names())\n",
    "\n",
    "# testing dataframe\n",
    "df_test = pd.DataFrame(cvec.transform(X_test).toarray(),\n",
    "                      columns=cvec.get_feature_names())\n",
    "\n",
    "print('Outlining the bagging parameters.')\n",
    "bag_params = {\n",
    "    'base_estimator': [RandomForestClassifier(), MultinomialNB()],\n",
    "}\n",
    "\n",
    "print(f'Instantiate a bagging model')\n",
    "bag = BaggingClassifier()\n",
    "\n",
    "print('Instantiate a grid search')\n",
    "gs_bag = GridSearchCV(bag,\n",
    "                      param_grid=bag_params,\n",
    "                      verbose = 1)\n",
    "print()\n",
    "print('Fitting the training data.')\n",
    "\n",
    "gs_bag.fit(df_train, y_train)\n",
    "print(f'The training score: {gs_bag.score(df_train, y_train)}')\n",
    "print(f'The testing score: {gs_bag.score(df_test, y_test)}')\n",
    "print(f'The best parameters from the grid search: {gs_bag.best_params_}')\n",
    "print(f'The best score from the grid seacrh: {gs_bag.best_score_}')\n",
    "\n",
    "print('Generating predictions')\n",
    "preds = gs_bag.predict(df_test)\n",
    "\n",
    "end_time = round(time.time() - start_time, 3)\n",
    "print(f'time: {end_time} seconds')\n",
    "end_time_minutes = int(end_time/ 60)\n",
    "end_time_seconds = round(end_time % 60, 3)\n",
    "\n",
    "print(f'time: {end_time_minutes} minutes, {end_time_seconds} seconds')\n",
    "metrics(y_test, preds)\n"
   ]
  },
  {
   "cell_type": "code",
   "execution_count": null,
   "metadata": {},
   "outputs": [],
   "source": []
  },
  {
   "cell_type": "markdown",
   "metadata": {},
   "source": [
    "<font color = blue size = 4.5>This is our lowest variance model.  We did a lot of other tuning, but never found a better fit.  If you wish to see any more of this work, please refer to the notebook titled \"Modeling the data.\"</font>\n",
    "\n",
    "<font color = blue size = 4.5>Next, we generate a few visuals, just to see the data.  We begin with a wordcloud.</font>"
   ]
  },
  {
   "cell_type": "code",
   "execution_count": 178,
   "metadata": {},
   "outputs": [],
   "source": [
    "positive_df = pd.read_csv('data_pos_class.csv')\n",
    "# positive_df.head()\n",
    "\n",
    "negative_df = pd.read_csv('data_neg_class.csv')\n",
    "negative_df['class'] = negative_df['class'].map(lambda x:0)\n",
    "# negative_df.head()\n",
    "\n",
    "df = pd.concat([positive_df, negative_df], axis=0)\n",
    "df.shape\n",
    "\n",
    "lego_words = positive_df['title']\n",
    "none_lego_words = negative_df['title']"
   ]
  },
  {
   "cell_type": "code",
   "execution_count": 185,
   "metadata": {},
   "outputs": [
    {
     "name": "stdout",
     "output_type": "stream",
     "text": [
      "Lego_Words\n"
     ]
    },
    {
     "data": {
      "image/png": "[encoded data removed]",
      "text/plain": [
       "<Figure size 936x936 with 1 Axes>"
      ]
     },
     "metadata": {
      "needs_background": "light"
     },
     "output_type": "display_data"
    },
    {
     "name": "stdout",
     "output_type": "stream",
     "text": [
      "None Lego Words\n"
     ]
    },
    {
     "data": {
      "image/png": "[encoded data removed]",
      "text/plain": [
       "<Figure size 936x936 with 1 Axes>"
      ]
     },
     "metadata": {
      "needs_background": "light"
     },
     "output_type": "display_data"
    }
   ],
   "source": [
    "# This code was taken and modified from Heather Robbin's jupyter notebook on constructing word clouds.\n",
    "def wordcloud_draw(make_cloud, color = 'black'):\n",
    "    words = ' '.join(make_cloud)\n",
    "    cleaned_word = \" \".join([word for word in words.split()])\n",
    "    wordcloud = WordCloud(stopwords=STOPWORDS,\n",
    "                      background_color=color, \n",
    "#                           mode=\"RGBA\",\n",
    "                      width=2500,\n",
    "                      height=2000,\n",
    "                     ).generate(cleaned_word)\n",
    "    plt.figure(1,figsize=(13, 13))\n",
    "    plt.imshow(wordcloud)\n",
    "    plt.axis('off')\n",
    "    plt.show()\n",
    "    \n",
    "print(\"Lego_Words\")\n",
    "wordcloud_draw(lego_words, color = 'grey')\n",
    "print(\"None Lego Words\")\n",
    "wordcloud_draw(none_lego_words, color = 'blue')"
   ]
  },
  {
   "cell_type": "code",
   "execution_count": 181,
   "metadata": {},
   "outputs": [
    {
     "data": {
      "image/png": "[encoded data removed]",
      "text/plain": [
       "<Figure size 576x360 with 1 Axes>"
      ]
     },
     "metadata": {
      "needs_background": "light"
     },
     "output_type": "display_data"
    }
   ],
   "source": [
    "# 2.03-lesson-principles_of_data_visualization\n",
    "\n",
    "number_photo = (negative_data['body'] == '').sum() + (positive_data['body'] == '').sum()\n",
    "\n",
    "# Set size of figure: eight by five.\n",
    "plt.figure(figsize=(8, 5))\n",
    "\n",
    "# Create text:\n",
    "plt.text(x = 0.5,                              # at horizontal = 0.5\n",
    "         y = 0.9,                              # at vertical = 0.9\n",
    "         s = str(number_photo)+ ' of',                          # content of text (string)\n",
    "         ha = 'center',                        # center-aligned horizontally\n",
    "         va = 'center',                        # center-aligned vertically\n",
    "         size = 55,                            # font size = 35\n",
    "         alpha = 0.9,                          # alpha = 0.6 --> 60% opaque; 40% clear\n",
    "         color='black',)\n",
    "#          bbox=dict(facecolor='red', alpha=0.5))\n",
    "                                   # alpha = 0.6 --> 60% opaque; 40% clear\n",
    "\n",
    "\n",
    "# Create text:\n",
    "# at (horizontal = 0.5, vertical = 0.55)\n",
    "# stating the percent change (s means string)\n",
    "# center-aligned\n",
    "# font size 125\n",
    "# alpha = 1 --> totally opaque\n",
    "\n",
    "plt.text(x = 0.5,\n",
    "         y = 0.55,\n",
    "         s = df.shape[0],\n",
    "         ha = 'center',\n",
    "         va = 'center',\n",
    "         size = 65,\n",
    "         alpha = 0.8,\n",
    "         color='blue')\n",
    "\n",
    "# Create text:\n",
    "# at (horizontal = 0.5, vertical = 0.25)\n",
    "# stating \"between January 1998 and August 2013\"\n",
    "# with a line break in between \"1998\" and \"and\"\n",
    "# center-aligned\n",
    "# font size 35\n",
    "# alpha = 0.6 --> 40% clear; 60% opaque\n",
    "plt.text(x = 0.5,\n",
    "         y = 0.2,\n",
    "         s = 'pulled posts had only\\nphotos in the main body',\n",
    "         ha = 'center',\n",
    "         va = 'center',\n",
    "         size = 35,\n",
    "         alpha = 0.9)\n",
    "\n",
    "# No axes.\n",
    "plt.axis('off');\n",
    "\n",
    "# plt.savefig('./apple_ec_11403.png'); # use this to save your image in your directory"
   ]
  },
  {
   "cell_type": "markdown",
   "metadata": {},
   "source": [
    "<font color = blue>Comparing the variance of the first constructed model with the variance of the final model.</font>"
   ]
  },
  {
   "cell_type": "code",
   "execution_count": 183,
   "metadata": {},
   "outputs": [
    {
     "data": {
      "text/html": [
       "<div>\n",
       "<style scoped>\n",
       "    .dataframe tbody tr th:only-of-type {\n",
       "        vertical-align: middle;\n",
       "    }\n",
       "\n",
       "    .dataframe tbody tr th {\n",
       "        vertical-align: top;\n",
       "    }\n",
       "\n",
       "    .dataframe thead th {\n",
       "        text-align: right;\n",
       "    }\n",
       "</style>\n",
       "<table border=\"1\" class=\"dataframe\">\n",
       "  <thead>\n",
       "    <tr style=\"text-align: right;\">\n",
       "      <th></th>\n",
       "      <th>train</th>\n",
       "      <th>test</th>\n",
       "    </tr>\n",
       "  </thead>\n",
       "  <tbody>\n",
       "    <tr>\n",
       "      <th>0</th>\n",
       "      <td>0.969523</td>\n",
       "      <td>0.795640</td>\n",
       "    </tr>\n",
       "    <tr>\n",
       "      <th>1</th>\n",
       "      <td>0.875106</td>\n",
       "      <td>0.847522</td>\n",
       "    </tr>\n",
       "  </tbody>\n",
       "</table>\n",
       "</div>"
      ],
      "text/plain": [
       "      train      test\n",
       "0  0.969523  0.795640\n",
       "1  0.875106  0.847522"
      ]
     },
     "execution_count": 183,
     "metadata": {},
     "output_type": "execute_result"
    }
   ],
   "source": [
    "scores = {\n",
    "    'train': [0.9695226561711575, 0.8751064433721261],\n",
    "    'test' : [0.7956403269754768, 0.8475217555807795]\n",
    "}\n",
    "\n",
    "\n",
    "df = pd.DataFrame(scores)\n",
    "df"
   ]
  },
  {
   "cell_type": "code",
   "execution_count": 184,
   "metadata": {},
   "outputs": [
    {
     "data": {
      "image/png": "[encoded data removed]",
      "text/plain": [
       "<Figure size 432x288 with 1 Axes>"
      ]
     },
     "metadata": {
      "needs_background": "light"
     },
     "output_type": "display_data"
    }
   ],
   "source": [
    "\n",
    "plt.plot(df['train'])\n",
    "plt.plot(df['test'])\n",
    "\n",
    "# plt.legend(bbox_to_anchor=(1.05, 1), loc=2, borderaxespad=0.); # This will control the legend    \n",
    "\n",
    "plt.legend(loc = 'upper right', labels=['Train', 'Test'])\n",
    "plt.xticks(ticks = [0, 1], labels = ['First', 'Best']);\n",
    "plt.xlabel('Model', size=20);\n",
    "plt.ylabel('Accuracy Score', size=20);\n",
    "plt.title('Train vs Test scores', size=24.5);"
   ]
  },
  {
   "cell_type": "code",
   "execution_count": null,
   "metadata": {},
   "outputs": [],
   "source": []
  }
 ],
 "metadata": {
  "kernelspec": {
   "display_name": "Python 3",
   "language": "python",
   "name": "python3"
  },
  "language_info": {
   "codemirror_mode": {
    "name": "ipython",
    "version": 3
   },
   "file_extension": ".py",
   "mimetype": "text/x-python",
   "name": "python",
   "nbconvert_exporter": "python",
   "pygments_lexer": "ipython3",
   "version": "3.6.8"
  }
 },
 "nbformat": 4,
 "nbformat_minor": 2
}
